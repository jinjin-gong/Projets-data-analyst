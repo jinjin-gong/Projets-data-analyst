{
  "nbformat": 4,
  "nbformat_minor": 0,
  "metadata": {
    "colab": {
      "provenance": [],
      "authorship_tag": "ABX9TyOArvVk2Fb0jqX8dYHFEfPZ",
      "include_colab_link": true
    },
    "kernelspec": {
      "name": "python3",
      "display_name": "Python 3"
    },
    "language_info": {
      "name": "python"
    }
  },
  "cells": [
    {
      "cell_type": "markdown",
      "metadata": {
        "id": "view-in-github",
        "colab_type": "text"
      },
      "source": [
        "<a href=\"https://colab.research.google.com/github/jinjinamanda/Projets-data-analyst/blob/main/Analyse_des_comportement_des_achats_des_clients_pour_une_librairie.ipynb\" target=\"_parent\"><img src=\"https://colab.research.google.com/assets/colab-badge.svg\" alt=\"Open In Colab\"/></a>"
      ]
    },
    {
      "cell_type": "markdown",
      "source": [
        "1) Installer R dans Colab"
      ],
      "metadata": {
        "id": "PSQvaK4EQ1Y8"
      }
    },
    {
      "cell_type": "code",
      "source": [
        "!apt-get install -y r-base"
      ],
      "metadata": {
        "colab": {
          "base_uri": "https://localhost:8080/"
        },
        "id": "LPMt0BurQ5xe",
        "outputId": "dfc5393c-a1dc-4211-ec62-b92ebf1d6975"
      },
      "execution_count": 1,
      "outputs": [
        {
          "output_type": "stream",
          "name": "stdout",
          "text": [
            "Reading package lists... Done\n",
            "Building dependency tree... Done\n",
            "Reading state information... Done\n",
            "r-base is already the newest version (4.4.2-1.2204.0).\n",
            "0 upgraded, 0 newly installed, 0 to remove and 49 not upgraded.\n"
          ]
        }
      ]
    },
    {
      "cell_type": "markdown",
      "source": [
        "2) Installer et configurer le noyau R (rpy2) :"
      ],
      "metadata": {
        "id": "k-u3btCdQ_F0"
      }
    },
    {
      "cell_type": "code",
      "source": [
        "!pip install -q rpy2"
      ],
      "metadata": {
        "id": "i_wiyA6LRDHl"
      },
      "execution_count": 2,
      "outputs": []
    },
    {
      "cell_type": "markdown",
      "source": [
        "3) Activer le noyau R dans Colab :"
      ],
      "metadata": {
        "id": "mzwwKV6FRKEg"
      }
    },
    {
      "cell_type": "code",
      "source": [
        "%load_ext rpy2.ipython\n"
      ],
      "metadata": {
        "id": "GEQiqistRMPa"
      },
      "execution_count": 3,
      "outputs": []
    },
    {
      "cell_type": "markdown",
      "source": [
        "5) Installer le package zoo"
      ],
      "metadata": {
        "id": "fEXi1-yaR8LC"
      }
    },
    {
      "cell_type": "code",
      "source": [
        "%%R\n",
        "install.packages(\"zoo\", repos = \"http://cran.r-project.org\", quiet = TRUE)\n"
      ],
      "metadata": {
        "id": "8tpVWTj4R-6Y"
      },
      "execution_count": 4,
      "outputs": []
    },
    {
      "cell_type": "markdown",
      "source": [
        "6) Charger le package après installation"
      ],
      "metadata": {
        "id": "Q5346y8cSX1A"
      }
    },
    {
      "cell_type": "code",
      "source": [
        "%%R\n",
        "library(zoo)"
      ],
      "metadata": {
        "id": "blbAWODPSfp-",
        "colab": {
          "base_uri": "https://localhost:8080/"
        },
        "outputId": "9b9419ba-31b2-4a66-ce4c-c6b9816e3dc8"
      },
      "execution_count": 5,
      "outputs": [
        {
          "output_type": "stream",
          "name": "stderr",
          "text": [
            "WARNING:rpy2.rinterface_lib.callbacks:R[write to console]: \n",
            "Attaching package: ‘zoo’\n",
            "\n",
            "\n",
            "WARNING:rpy2.rinterface_lib.callbacks:R[write to console]: The following objects are masked from ‘package:base’:\n",
            "\n",
            "    as.Date, as.Date.numeric\n",
            "\n",
            "\n"
          ]
        }
      ]
    },
    {
      "cell_type": "markdown",
      "source": [
        "7) Installer et charger le package stringr"
      ],
      "metadata": {
        "id": "gdxSdmVyTNfP"
      }
    },
    {
      "cell_type": "code",
      "source": [
        "%%R\n",
        "install.packages(\"stringr\", repos = \"http://cran.r-project.org\", quiet = TRUE)\n",
        "library(stringr)\n"
      ],
      "metadata": {
        "id": "-n0EjO1XTJsA"
      },
      "execution_count": 6,
      "outputs": []
    },
    {
      "cell_type": "code",
      "source": [
        "%%R\n",
        "# Installer le package\n",
        "install.packages(\"dplyr\", quiet = TRUE)\n",
        "\n",
        "# Charger le package\n",
        "library(dplyr)"
      ],
      "metadata": {
        "id": "xT7X-gMUKzP5",
        "colab": {
          "base_uri": "https://localhost:8080/"
        },
        "outputId": "1e6f8fab-094b-4bf8-cecf-16031a3baa4b"
      },
      "execution_count": 7,
      "outputs": [
        {
          "output_type": "stream",
          "name": "stderr",
          "text": [
            "WARNING:rpy2.rinterface_lib.callbacks:R[write to console]: \n",
            "Attaching package: ‘dplyr’\n",
            "\n",
            "\n",
            "WARNING:rpy2.rinterface_lib.callbacks:R[write to console]: The following objects are masked from ‘package:stats’:\n",
            "\n",
            "    filter, lag\n",
            "\n",
            "\n",
            "WARNING:rpy2.rinterface_lib.callbacks:R[write to console]: The following objects are masked from ‘package:base’:\n",
            "\n",
            "    intersect, setdiff, setequal, union\n",
            "\n",
            "\n"
          ]
        }
      ]
    },
    {
      "cell_type": "markdown",
      "source": [
        "Load fichiers"
      ],
      "metadata": {
        "id": "84SNO0bcjKDt"
      }
    },
    {
      "cell_type": "code",
      "source": [
        "%%R\n",
        "customers <- read.csv(\"/content/customers.csv\")\n",
        "products <- read.csv(\"/content/products.csv\")\n",
        "transactions <- read.csv(\"/content/transactions.csv\")"
      ],
      "metadata": {
        "id": "PREJHnkIjNI4"
      },
      "execution_count": 8,
      "outputs": []
    },
    {
      "cell_type": "markdown",
      "source": [
        "8) Description fichiers"
      ],
      "metadata": {
        "id": "NOA42RPhURQG"
      }
    },
    {
      "cell_type": "code",
      "source": [
        "%%R\n",
        "# Aperçu des premières lignes\n",
        "head(customers)\n",
        "head(products)\n",
        "head(transactions)\n"
      ],
      "metadata": {
        "colab": {
          "base_uri": "https://localhost:8080/"
        },
        "id": "Ti10wYAHUZJ6",
        "outputId": "36d73ab1-9ddb-40d1-8f15-ebaab1d8ce88"
      },
      "execution_count": 9,
      "outputs": [
        {
          "output_type": "stream",
          "name": "stdout",
          "text": [
            "  id_prod                       date session_id client_id\n",
            "1  0_1518 2022-05-20 13:21:29.043970   s_211425     c_103\n",
            "2   1_251 2022-02-02 07:55:19.149409   s_158752    c_8534\n",
            "3  0_1277 2022-06-18 15:44:33.155329   s_225667    c_6714\n",
            "4   2_209 2021-06-24 04:19:29.835891    s_52962    c_6941\n",
            "5  0_1509 2023-01-11 08:22:08.194479   s_325227    c_4232\n",
            "6  0_1418 2022-10-20 15:59:16.084030   s_285425    c_1478\n"
          ]
        }
      ]
    },
    {
      "cell_type": "code",
      "source": [
        "# Aperçu de la structure des données\n",
        "%%R\n",
        "str(customers)\n",
        "str(products)\n",
        "str(transactions)"
      ],
      "metadata": {
        "colab": {
          "base_uri": "https://localhost:8080/"
        },
        "id": "DGmyWcd9U23v",
        "outputId": "28927b4c-a4d1-46c4-8310-46d8585f0742"
      },
      "execution_count": 10,
      "outputs": [
        {
          "output_type": "stream",
          "name": "stdout",
          "text": [
            "'data.frame':\t8623 obs. of  3 variables:\n",
            " $ client_id: chr  \"c_4410\" \"c_7839\" \"c_1699\" \"c_5961\" ...\n",
            " $ sex      : chr  \"f\" \"f\" \"f\" \"f\" ...\n",
            " $ birth    : int  1967 1975 1984 1962 1943 1993 1967 1978 1971 1993 ...\n",
            "'data.frame':\t3287 obs. of  3 variables:\n",
            " $ id_prod: chr  \"0_1421\" \"0_1368\" \"0_731\" \"1_587\" ...\n",
            " $ price  : num  19.99 5.13 17.99 4.99 3.99 ...\n",
            " $ categ  : int  0 0 0 1 0 0 1 0 0 0 ...\n",
            "'data.frame':\t679532 obs. of  4 variables:\n",
            " $ id_prod   : chr  \"0_1518\" \"1_251\" \"0_1277\" \"2_209\" ...\n",
            " $ date      : chr  \"2022-05-20 13:21:29.043970\" \"2022-02-02 07:55:19.149409\" \"2022-06-18 15:44:33.155329\" \"2021-06-24 04:19:29.835891\" ...\n",
            " $ session_id: chr  \"s_211425\" \"s_158752\" \"s_225667\" \"s_52962\" ...\n",
            " $ client_id : chr  \"c_103\" \"c_8534\" \"c_6714\" \"c_6941\" ...\n"
          ]
        }
      ]
    },
    {
      "cell_type": "markdown",
      "source": [
        "9) Vérifier les valeurs manquantes"
      ],
      "metadata": {
        "id": "16qN06tNVC_e"
      }
    },
    {
      "cell_type": "code",
      "source": [
        "# Vérifier les valeurs manquantes\n",
        "%%R\n",
        "# Vérifier les valeurs manquantes\n",
        "colSums(is.na(transactions))\n",
        "colSums(is.na(products))\n",
        "colSums(is.na(customers))\n",
        "\n",
        "# Vérifier les doublons\n",
        "sum(duplicated(transactions))\n",
        "sum(duplicated(products))\n",
        "sum(duplicated(customers))\n",
        "\n",
        "# Corriger les prix négatifs :\n",
        "products <- products %>%\n",
        "  mutate(price = ifelse(price < 0, NA, price))\n",
        "\n"
      ],
      "metadata": {
        "id": "zTT-rSMnVInK"
      },
      "execution_count": 11,
      "outputs": []
    },
    {
      "cell_type": "code",
      "source": [
        "%%R\n",
        "# Supprimer les doublons\n",
        "transactions <- transactions %>% distinct()\n",
        "\n",
        "# Remplacer les prix négatifs par NA\n",
        "products <- products %>%\n",
        "  mutate(price = ifelse(price < 0, NA, price))"
      ],
      "metadata": {
        "id": "VSnOVd0ZKNpa"
      },
      "execution_count": 12,
      "outputs": []
    },
    {
      "cell_type": "markdown",
      "source": [
        "10) Vérifier si les types des colonnes sont corrects"
      ],
      "metadata": {
        "id": "-KITwMRYVXJm"
      }
    },
    {
      "cell_type": "code",
      "source": [
        "# Vérifier si la colonne date est bien de type datetime\n",
        "%%R\n",
        "class(transactions$date)\n",
        "\n",
        "# Si nécessaire, convertir en datetime\n",
        "transactions$date <- as.POSIXct(transactions$date, format = \"%Y-%m-%d %H:%M:%S\")"
      ],
      "metadata": {
        "id": "vAZZe-vqVa-Z"
      },
      "execution_count": 13,
      "outputs": []
    },
    {
      "cell_type": "markdown",
      "source": [
        "11) Fusionner les tables"
      ],
      "metadata": {
        "id": "UjMjZBiVVmNH"
      }
    },
    {
      "cell_type": "code",
      "source": [
        "# Fusion transactions et produits\n",
        "%%R\n",
        " merged_data <- transactions %>%\n",
        "  left_join(products, by = \"id_prod\") %>%\n",
        "  left_join(customers, by = \"client_id\")"
      ],
      "metadata": {
        "id": "eOlysSVSVuQR"
      },
      "execution_count": 14,
      "outputs": []
    },
    {
      "cell_type": "code",
      "source": [
        "%%R\n",
        "# Vérifier les colonnes disponibles\n",
        "colnames(merged_data)\n",
        "\n",
        "# Aperçu des données\n",
        "head(merged_data)\n"
      ],
      "metadata": {
        "colab": {
          "base_uri": "https://localhost:8080/"
        },
        "id": "HIe2a-qZddD0",
        "outputId": "55ec55eb-807d-4892-b215-8204c7a82758"
      },
      "execution_count": 15,
      "outputs": [
        {
          "output_type": "stream",
          "name": "stdout",
          "text": [
            "  id_prod                date session_id client_id price categ sex birth\n",
            "1  0_1518 2022-05-20 13:21:29   s_211425     c_103  4.18     0   f  1986\n",
            "2   1_251 2022-02-02 07:55:19   s_158752    c_8534 15.99     1   m  1988\n",
            "3  0_1277 2022-06-18 15:44:33   s_225667    c_6714  7.99     0   f  1968\n",
            "4   2_209 2021-06-24 04:19:29    s_52962    c_6941 69.99     2   m  2000\n",
            "5  0_1509 2023-01-11 08:22:08   s_325227    c_4232  4.99     0   m  1980\n",
            "6  0_1418 2022-10-20 15:59:16   s_285425    c_1478  8.57     0   f  1972\n"
          ]
        }
      ]
    },
    {
      "cell_type": "code",
      "source": [
        "%%R\n",
        "# Assurez-vous que 'date' est en format Date\n",
        "merged_data <- merged_data %>%\n",
        "  mutate(date = as.Date(date))\n",
        "\n",
        "# Ajouter une colonne 'year' en extrayant l'année\n",
        "merged_data <- merged_data %>%\n",
        "  mutate(year = as.numeric(format(date, \"%Y\")))\n"
      ],
      "metadata": {
        "id": "0Pud-C5Wdn1P"
      },
      "execution_count": 16,
      "outputs": []
    },
    {
      "cell_type": "code",
      "source": [
        "%%R\n",
        "# Vérifier les premières lignes\n",
        "head(merged_data)\n"
      ],
      "metadata": {
        "colab": {
          "base_uri": "https://localhost:8080/"
        },
        "id": "XxXXMzd6dtW4",
        "outputId": "5184f606-5d76-4df1-b73d-12e547a88dc1"
      },
      "execution_count": 17,
      "outputs": [
        {
          "output_type": "stream",
          "name": "stdout",
          "text": [
            "  id_prod       date session_id client_id price categ sex birth year\n",
            "1  0_1518 2022-05-20   s_211425     c_103  4.18     0   f  1986 2022\n",
            "2   1_251 2022-02-02   s_158752    c_8534 15.99     1   m  1988 2022\n",
            "3  0_1277 2022-06-18   s_225667    c_6714  7.99     0   f  1968 2022\n",
            "4   2_209 2021-06-24    s_52962    c_6941 69.99     2   m  2000 2021\n",
            "5  0_1509 2023-01-11   s_325227    c_4232  4.99     0   m  1980 2023\n",
            "6  0_1418 2022-10-20   s_285425    c_1478  8.57     0   f  1972 2022\n"
          ]
        }
      ]
    },
    {
      "cell_type": "code",
      "source": [
        "%%R\n",
        "# Moyenne des prix par année\n",
        "price_by_year <- merged_data %>%\n",
        "  group_by(year) %>%\n",
        "  summarise(avg_price = mean(price, na.rm = TRUE))\n",
        "\n",
        "# Visualiser l'évolution des prix moyens par année\n",
        "  ggplot(price_by_year, aes(x = year, y = avg_price)) +\n",
        "  geom_line() +\n",
        "  scale_x_continuous(breaks = seq(2021, 2023, 1)) + # Ajuste les graduations\n",
        "  labs(title = \"Évolution des prix moyens par année\", x = \"Année\", y = \"Prix moyen\") +\n",
        "  theme_minimal()\n",
        "\n"
      ],
      "metadata": {
        "colab": {
          "base_uri": "https://localhost:8080/"
        },
        "id": "7OiEbj2Kd9m4",
        "outputId": "61773d22-80a4-413e-9fb8-9d494aae4e09"
      },
      "execution_count": 18,
      "outputs": [
        {
          "output_type": "stream",
          "name": "stderr",
          "text": [
            "WARNING:rpy2.rinterface_lib.callbacks:R[write to console]: Error in ggplot(price_by_year, aes(x = year, y = avg_price)) : \n",
            "  could not find function \"ggplot\"\n",
            "\n"
          ]
        },
        {
          "output_type": "stream",
          "name": "stdout",
          "text": [
            "\n",
            "Error in ggplot(price_by_year, aes(x = year, y = avg_price)) : \n",
            "  could not find function \"ggplot\"\n"
          ]
        }
      ]
    },
    {
      "cell_type": "code",
      "source": [
        "%%R\n",
        "# Statistiques descriptives pour le prix\n",
        "summary(merged_data$price)\n",
        "\n",
        "# Grouper par catégorie de produit et calculer les statistiques\n",
        "grouped_stats <- merged_data %>%\n",
        "  group_by(categ) %>%\n",
        "  summarise(\n",
        "    avg_price = mean(price, na.rm = TRUE),\n",
        "    median_price = median(price, na.rm = TRUE),\n",
        "    std_price = sd(price, na.rm = TRUE),\n",
        "    avg_birth_year = mean(birth, na.rm = TRUE)\n",
        "  )\n",
        "grouped_stats <- grouped_stats %>%\n",
        "  mutate(avg_birth_year = sprintf(\"%.0f\", avg_birth_year))  # Forcer un affichage sans décimales\n",
        "\n",
        "print(grouped_stats)"
      ],
      "metadata": {
        "colab": {
          "base_uri": "https://localhost:8080/"
        },
        "id": "GqnUVjpMMGSO",
        "outputId": "af651319-fc05-4fc3-a45d-f5a065583268"
      },
      "execution_count": 19,
      "outputs": [
        {
          "output_type": "stream",
          "name": "stdout",
          "text": [
            "# A tibble: 4 × 5\n",
            "  categ avg_price median_price std_price avg_birth_year\n",
            "  <int>     <dbl>        <dbl>     <dbl> <chr>         \n",
            "1     0      10.6         9.99      4.93 1978          \n",
            "2     1      20.5        19.1       7.58 1974          \n",
            "3     2      76.2        62.8      39.7  1996          \n",
            "4    NA     NaN          NA        NA    1978          \n"
          ]
        }
      ]
    },
    {
      "cell_type": "code",
      "source": [
        "%%R\n",
        "# Histogramme des prix\n",
        "ggplot(merged_data, aes(x = price)) +\n",
        "  geom_histogram(binwidth = 5, fill = \"blue\", color = \"black\") +\n",
        "  labs(title = \"Distribution des prix\", x = \"Prix\", y = \"Fréquence\")\n"
      ],
      "metadata": {
        "colab": {
          "base_uri": "https://localhost:8080/"
        },
        "id": "TuGXfm1RRTbJ",
        "outputId": "8f994c13-20b7-4f44-983d-cd50f1ee279e"
      },
      "execution_count": 20,
      "outputs": [
        {
          "output_type": "stream",
          "name": "stderr",
          "text": [
            "WARNING:rpy2.rinterface_lib.callbacks:R[write to console]: Error in ggplot(merged_data, aes(x = price)) : \n",
            "  could not find function \"ggplot\"\n",
            "\n"
          ]
        },
        {
          "output_type": "stream",
          "name": "stdout",
          "text": [
            "\n",
            "Error in ggplot(merged_data, aes(x = price)) : \n",
            "  could not find function \"ggplot\"\n"
          ]
        }
      ]
    },
    {
      "cell_type": "code",
      "source": [
        "%%R\n",
        "# Visualisation des prix moyens par catégorie\n",
        "ggplot(grouped_stats, aes(x = as.factor(categ), y = avg_price)) +\n",
        "  geom_bar(stat = \"identity\", fill = \"blue\") +\n",
        "  labs(title = \"Prix moyen par catégorie\", x = \"Catégorie\", y = \"Prix moyen\")\n"
      ],
      "metadata": {
        "colab": {
          "base_uri": "https://localhost:8080/"
        },
        "id": "lAyYaS-uMSdD",
        "outputId": "7ac4c98f-0483-4dcc-d410-d67d3dcb3ed8"
      },
      "execution_count": 21,
      "outputs": [
        {
          "output_type": "stream",
          "name": "stderr",
          "text": [
            "WARNING:rpy2.rinterface_lib.callbacks:R[write to console]: Error in ggplot(grouped_stats, aes(x = as.factor(categ), y = avg_price)) : \n",
            "  could not find function \"ggplot\"\n",
            "\n"
          ]
        },
        {
          "output_type": "stream",
          "name": "stdout",
          "text": [
            "\n",
            "Error in ggplot(grouped_stats, aes(x = as.factor(categ), y = avg_price)) : \n",
            "  could not find function \"ggplot\"\n"
          ]
        }
      ]
    },
    {
      "cell_type": "code",
      "source": [
        "%%R\n",
        "# Boxplot des prix par catégorie\n",
        "ggplot(merged_data, aes(x = as.factor(categ), y = price)) +\n",
        "  geom_boxplot() +\n",
        "  labs(title = \"Prix par catégorie\", x = \"Catégorie\", y = \"Prix\")\n"
      ],
      "metadata": {
        "colab": {
          "base_uri": "https://localhost:8080/"
        },
        "id": "x-OH2u8YRqW5",
        "outputId": "788c8f79-3f94-4fee-def0-29d1707267e6"
      },
      "execution_count": 22,
      "outputs": [
        {
          "output_type": "stream",
          "name": "stderr",
          "text": [
            "WARNING:rpy2.rinterface_lib.callbacks:R[write to console]: Error in ggplot(merged_data, aes(x = as.factor(categ), y = price)) : \n",
            "  could not find function \"ggplot\"\n",
            "\n"
          ]
        },
        {
          "output_type": "stream",
          "name": "stdout",
          "text": [
            "\n",
            "Error in ggplot(merged_data, aes(x = as.factor(categ), y = price)) : \n",
            "  could not find function \"ggplot\"\n"
          ]
        }
      ]
    },
    {
      "cell_type": "code",
      "source": [
        "%%R\n",
        "# Nuage de points (prix vs année de naissance)\n",
        "ggplot(merged_data, aes(x = birth, y = price)) +\n",
        "  geom_point(alpha = 0.5) +\n",
        "  labs(title = \"Prix vs Année de naissance\", x = \"Année de naissance\", y = \"Prix\")"
      ],
      "metadata": {
        "colab": {
          "base_uri": "https://localhost:8080/"
        },
        "id": "yWCXRcJBR2a5",
        "outputId": "e3de31a9-4654-4728-e159-45b4cbe75b09"
      },
      "execution_count": 23,
      "outputs": [
        {
          "output_type": "stream",
          "name": "stderr",
          "text": [
            "WARNING:rpy2.rinterface_lib.callbacks:R[write to console]: Error in ggplot(merged_data, aes(x = birth, y = price)) : \n",
            "  could not find function \"ggplot\"\n",
            "\n"
          ]
        },
        {
          "output_type": "stream",
          "name": "stdout",
          "text": [
            "\n",
            "Error in ggplot(merged_data, aes(x = birth, y = price)) : \n",
            "  could not find function \"ggplot\"\n"
          ]
        }
      ]
    },
    {
      "cell_type": "markdown",
      "source": [
        "Analyse temporelle et géographique"
      ],
      "metadata": {
        "id": "PYi4ea6ASIc0"
      }
    },
    {
      "cell_type": "markdown",
      "source": [
        "Analyser les zones géographiques (simulé par categ)"
      ],
      "metadata": {
        "id": "IRsImKNxShLo"
      }
    },
    {
      "cell_type": "code",
      "source": [
        "%%R\n",
        "# Moyenne des prix par catégorie (comme substitut pour les zones géographiques)\n",
        "stats_by_geography <- merged_data %>%\n",
        "  group_by(categ) %>%\n",
        "  summarise(\n",
        "    avg_price = mean(price, na.rm = TRUE),\n",
        "    total_transactions = n()\n",
        "  )\n",
        "\n",
        "ggplot(stats_by_geography, aes(x = as.factor(categ), y = avg_price)) +\n",
        "  geom_bar(stat = \"identity\", fill = \"green\") +\n",
        "  labs(title = \"Prix moyen par catégorie\", x = \"Catégorie\", y = \"Prix moyen\")\n"
      ],
      "metadata": {
        "colab": {
          "base_uri": "https://localhost:8080/"
        },
        "id": "m63INrJtSjYI",
        "outputId": "552fec6b-d54c-4877-e7a7-df3d1a5aae46"
      },
      "execution_count": 24,
      "outputs": [
        {
          "output_type": "stream",
          "name": "stderr",
          "text": [
            "WARNING:rpy2.rinterface_lib.callbacks:R[write to console]: Error in ggplot(stats_by_geography, aes(x = as.factor(categ), y = avg_price)) : \n",
            "  could not find function \"ggplot\"\n",
            "\n"
          ]
        },
        {
          "output_type": "stream",
          "name": "stdout",
          "text": [
            "\n",
            "Error in ggplot(stats_by_geography, aes(x = as.factor(categ), y = avg_price)) : \n",
            "  could not find function \"ggplot\"\n"
          ]
        }
      ]
    },
    {
      "cell_type": "markdown",
      "source": [
        "12) Calcul du chiffre d'affaires mensuel\n",
        "Ajoute une colonne pour regrouper par mois et calculons le chiffre d'affaires."
      ],
      "metadata": {
        "id": "WZ9PB9-nVmoB"
      }
    },
    {
      "cell_type": "code",
      "source": [
        "# Ajouter une colonne \"mois\" pour le regroupement\n",
        "%%R\n",
        "merged_data <- merged_data %>%\n",
        "  mutate(month = as.Date(format(date, \"%Y-%m-01\")))\n",
        "\n",
        "# Calcul du chiffre d'affaires mensuel\n",
        "monthly_revenue <- merged_data %>%\n",
        "  group_by(month) %>%\n",
        "  summarise(revenue = sum(price, na.rm = TRUE))\n",
        "\n",
        "# Aperçu des résultats\n",
        "head(monthly_revenue)\n"
      ],
      "metadata": {
        "colab": {
          "base_uri": "https://localhost:8080/"
        },
        "id": "rSIKm_fhWlXP",
        "outputId": "22598f60-6685-4bcc-ae2f-a1d8bec253f7"
      },
      "execution_count": 25,
      "outputs": [
        {
          "output_type": "stream",
          "name": "stdout",
          "text": [
            "# A tibble: 6 × 2\n",
            "  month      revenue\n",
            "  <date>       <dbl>\n",
            "1 2021-03-01 482441.\n",
            "2 2021-04-01 476109.\n",
            "3 2021-05-01 492943.\n",
            "4 2021-06-01 484089.\n",
            "5 2021-07-01 482835.\n",
            "6 2021-08-01 482285.\n"
          ]
        }
      ]
    },
    {
      "cell_type": "markdown",
      "source": [
        "13) Calcul de la tendance (moyenne mobile)\n",
        "Utilise le package zoo pour calculer une moyenne mobile sur 3 mois."
      ],
      "metadata": {
        "id": "2ABDX9lHVmss"
      }
    },
    {
      "cell_type": "code",
      "source": [
        "# Ajouter une moyenne mobile sur 3 mois\n",
        "%%R\n",
        "library(zoo)\n",
        "monthly_revenue <- monthly_revenue %>%\n",
        "  mutate(revenue_ma_3 = rollmean(revenue, 3, fill = NA))\n",
        "\n",
        "# Aperçu des données avec tendance\n",
        "head(monthly_revenue)\n"
      ],
      "metadata": {
        "colab": {
          "base_uri": "https://localhost:8080/"
        },
        "id": "y79HC2vWXArp",
        "outputId": "3e550a98-73cc-4a22-a640-c43a15fbafc3"
      },
      "execution_count": 26,
      "outputs": [
        {
          "output_type": "stream",
          "name": "stdout",
          "text": [
            "# A tibble: 6 × 3\n",
            "  month      revenue revenue_ma_3\n",
            "  <date>       <dbl>        <dbl>\n",
            "1 2021-03-01 482441.          NA \n",
            "2 2021-04-01 476109.      483831.\n",
            "3 2021-05-01 492943.      484380.\n",
            "4 2021-06-01 484089.      486622.\n",
            "5 2021-07-01 482835.      483070.\n",
            "6 2021-08-01 482285.      490787.\n"
          ]
        }
      ]
    },
    {
      "cell_type": "markdown",
      "source": [
        "13) Visualisation du chiffre d'affaires\n",
        "Crée un graphique avec ggplot2 pour visualiser le chiffre d'affaires et sa tendance."
      ],
      "metadata": {
        "id": "fCCa_ltzXKIG"
      }
    },
    {
      "cell_type": "code",
      "source": [
        "%%R\n",
        "library(ggplot2)\n",
        "\n",
        "# Graphique de l'évolution du chiffre d'affaires\n",
        "ggplot(monthly_revenue, aes(x = month)) +\n",
        "  geom_line(aes(y = revenue, color = \"Chiffre d'affaires\")) +\n",
        "  geom_line(aes(y = revenue_ma_3, color = \"Tendance (Moyenne mobile 3 mois)\")) +\n",
        "  labs(title = \"Évolution du chiffre d'affaires mensuel\",\n",
        "       x = \"Mois\", y = \"Chiffre d'affaires (€)\") +\n",
        "  theme_minimal() +\n",
        "  scale_color_manual(\"\", values = c(\"blue\", \"red\"))\n"
      ],
      "metadata": {
        "colab": {
          "base_uri": "https://localhost:8080/",
          "height": 497
        },
        "id": "kJcv98gLXKbp",
        "outputId": "fab0ce4d-6e51-47c5-b004-ced67d3f3763"
      },
      "execution_count": 27,
      "outputs": [
        {
          "output_type": "display_data",
          "data": {
            "image/png": "[encoded data removed]"
          },
          "metadata": {}
        }
      ]
    },
    {
      "cell_type": "markdown",
      "source": [
        "Étape 1 : Calcul du chiffre d'affaires par produit\n",
        "Regrouper les données fusionnées par produit et calculer le chiffre d'affaires."
      ],
      "metadata": {
        "id": "43xxeGMCRP7Y"
      }
    },
    {
      "cell_type": "code",
      "source": [
        "%%R\n",
        "# Calcul du chiffre d'affaires par produit\n",
        "product_revenue <- merged_data %>%\n",
        "  group_by(id_prod) %>%\n",
        "  summarise(total_revenue = sum(price, na.rm = TRUE)) %>%\n",
        "  arrange(desc(total_revenue))\n",
        "\n",
        "# Aperçu des produits les plus performants\n",
        "top_products <- head(product_revenue, 10)\n",
        "top_products\n",
        "\n",
        "# Aperçu des produits les moins performants\n",
        "flop_products <- tail(product_revenue, 10)\n",
        "flop_products\n"
      ],
      "metadata": {
        "colab": {
          "base_uri": "https://localhost:8080/"
        },
        "id": "9KkGKoxwXwGd",
        "outputId": "0a6bd074-ddb3-4872-8ca3-71bd8d055f5a"
      },
      "execution_count": 28,
      "outputs": [
        {
          "output_type": "stream",
          "name": "stdout",
          "text": [
            "# A tibble: 10 × 2\n",
            "   id_prod total_revenue\n",
            "   <chr>           <dbl>\n",
            " 1 0_1498           2.48\n",
            " 2 0_1728           2.27\n",
            " 3 0_1601           1.99\n",
            " 4 0_541            1.99\n",
            " 5 0_807            1.99\n",
            " 6 0_1653           1.98\n",
            " 7 0_1284           1.38\n",
            " 8 0_1539           0.99\n",
            " 9 0_2245           0   \n",
            "10 T_0              0   \n"
          ]
        }
      ]
    },
    {
      "cell_type": "markdown",
      "source": [
        "Étape 2 : Visualisation des tops et flops\n",
        "Créer deux graphiques pour afficher les produits les plus performants et les moins performants."
      ],
      "metadata": {
        "id": "qkZ4C8I6X2Pp"
      }
    },
    {
      "cell_type": "code",
      "source": [
        "%%R\n",
        "# Graphique des produits les plus performants\n",
        "ggplot(top_products, aes(x = reorder(id_prod, total_revenue), y = total_revenue)) +\n",
        "  geom_bar(stat = \"identity\", fill = \"blue\") +\n",
        "  coord_flip() +\n",
        "  labs(title = \"Top 10 Produits par Chiffre d'Affaires\",\n",
        "       x = \"Produits\", y = \"Chiffre d'affaires (€)\") +\n",
        "  theme_minimal()\n"
      ],
      "metadata": {
        "colab": {
          "base_uri": "https://localhost:8080/",
          "height": 497
        },
        "id": "x0mBwdIPX8D4",
        "outputId": "ea13e7ea-be32-4338-f059-62a6ec5420a6"
      },
      "execution_count": 29,
      "outputs": [
        {
          "output_type": "display_data",
          "data": {
            "image/png": "[encoded data removed]"
          },
          "metadata": {}
        }
      ]
    },
    {
      "cell_type": "code",
      "source": [
        "%%R\n",
        "# Graphique des produits les moins performants\n",
        "ggplot(flop_products, aes(x = reorder(id_prod, total_revenue), y = total_revenue)) +\n",
        "  geom_bar(stat = \"identity\", fill = \"red\") +\n",
        "  coord_flip() +\n",
        "  labs(title = \"Flop 10 Produits par Chiffre d'Affaires\",\n",
        "       x = \"Produits\", y = \"Chiffre d'affaires (€)\") +\n",
        "  theme_minimal()\n"
      ],
      "metadata": {
        "colab": {
          "base_uri": "https://localhost:8080/",
          "height": 497
        },
        "id": "YUqyBI4jYDDF",
        "outputId": "4e76a2d2-97da-4c5f-991d-ecb37f0bf1ad"
      },
      "execution_count": 30,
      "outputs": [
        {
          "output_type": "display_data",
          "data": {
            "image/png": "[encoded data removed]"
          },
          "metadata": {}
        }
      ]
    },
    {
      "cell_type": "markdown",
      "source": [
        "l’analyse des comportements clients, en explorant les relations entre les caractéristiques démographiques des clients (âge, sexe) et leurs comportements d’achat (montant total, fréquence, catégories de produits)."
      ],
      "metadata": {
        "id": "pkDHkvZQYe6K"
      }
    },
    {
      "cell_type": "markdown",
      "source": [
        "Étape 1 : Préparation des données\n",
        "Ajoutez une colonne pour calculer l’âge des clients.\n",
        "Fusionnez les données pour obtenir les informations nécessaires sur chaque client."
      ],
      "metadata": {
        "id": "e23lE4vBYn0x"
      }
    },
    {
      "cell_type": "code",
      "source": [
        "%%R\n",
        "# Calcul de l'âge des clients\n",
        "merged_data <- merged_data %>%\n",
        "  mutate(age = 2024 - birth)  # Remplacez 2024 par l'année actuelle si nécessaire\n",
        "\n",
        "# Vérification des données\n",
        "head(merged_data)\n"
      ],
      "metadata": {
        "colab": {
          "base_uri": "https://localhost:8080/"
        },
        "id": "Vy2-CUafYeea",
        "outputId": "000d9fed-6b7b-47e1-80a4-0cd78b0c8413"
      },
      "execution_count": 31,
      "outputs": [
        {
          "output_type": "stream",
          "name": "stdout",
          "text": [
            "  id_prod       date session_id client_id price categ sex birth year      month\n",
            "1  0_1518 2022-05-20   s_211425     c_103  4.18     0   f  1986 2022 2022-05-01\n",
            "2   1_251 2022-02-02   s_158752    c_8534 15.99     1   m  1988 2022 2022-02-01\n",
            "3  0_1277 2022-06-18   s_225667    c_6714  7.99     0   f  1968 2022 2022-06-01\n",
            "4   2_209 2021-06-24    s_52962    c_6941 69.99     2   m  2000 2021 2021-06-01\n",
            "5  0_1509 2023-01-11   s_325227    c_4232  4.99     0   m  1980 2023 2023-01-01\n",
            "6  0_1418 2022-10-20   s_285425    c_1478  8.57     0   f  1972 2022 2022-10-01\n",
            "  age\n",
            "1  38\n",
            "2  36\n",
            "3  56\n",
            "4  24\n",
            "5  44\n",
            "6  52\n"
          ]
        }
      ]
    },
    {
      "cell_type": "markdown",
      "source": [
        "Étape 2 : Analyse du lien entre âge et montant total des achats\n",
        "Nous allons regrouper les données par tranche d’âge et calculer le montant total des achats pour chaque tranche."
      ],
      "metadata": {
        "id": "_C6PhsbXYySa"
      }
    },
    {
      "cell_type": "code",
      "source": [
        "%%R\n",
        "# Calculer le montant total des achats par tranche d'âge\n",
        "age_purchase <- merged_data %>%\n",
        "  group_by(age_group = cut(age, breaks = c(0, 20, 30, 40, 50, 60, 70, 100), right = FALSE)) %>%\n",
        "  summarise(total_revenue = sum(price, na.rm = TRUE))\n",
        "\n",
        "# Visualisation des achats par tranche d'âge\n",
        "library(ggplot2)\n",
        "ggplot(age_purchase, aes(x = age_group, y = total_revenue)) +\n",
        "  geom_bar(stat = \"identity\", fill = \"steelblue\") +\n",
        "  labs(title = \"Montant Total des Achats par Tranche d'Âge\",\n",
        "       x = \"Tranche d'âge\", y = \"Montant total (€)\") +\n",
        "  theme_minimal()\n"
      ],
      "metadata": {
        "colab": {
          "base_uri": "https://localhost:8080/",
          "height": 497
        },
        "id": "6p5a-MhvZBB_",
        "outputId": "13e20edf-de5e-4f8f-ab20-3ff2ec2520f1"
      },
      "execution_count": 32,
      "outputs": [
        {
          "output_type": "display_data",
          "data": {
            "image/png": "[encoded data removed]"
          },
          "metadata": {}
        }
      ]
    },
    {
      "cell_type": "markdown",
      "source": [
        "Étape 3 : Analyse du lien entre âge et fréquence d’achat\n",
        "Calculez la fréquence moyenne des achats par client et par tranche d’âge."
      ],
      "metadata": {
        "id": "C0aUBQdzYyh0"
      }
    },
    {
      "cell_type": "code",
      "source": [
        "%%R\n",
        "# Fréquence d'achat par tranche d'âge\n",
        "age_frequency <- merged_data %>%\n",
        "  group_by(client_id, age_group = cut(age, breaks = c(0, 20, 30, 40, 50, 60, 70, 100), right = FALSE)) %>%\n",
        "  summarise(frequency = n()) %>%\n",
        "  group_by(age_group) %>%\n",
        "  summarise(avg_frequency = mean(frequency))\n",
        "\n",
        "# Visualisation\n",
        "ggplot(age_frequency, aes(x = age_group, y = avg_frequency)) +\n",
        "  geom_bar(stat = \"identity\", fill = \"darkorange\") +\n",
        "  labs(title = \"Fréquence Moyenne des Achats par Tranche d'Âge\",\n",
        "       x = \"Tranche d'âge\", y = \"Fréquence moyenne\") +\n",
        "  theme_minimal()\n"
      ],
      "metadata": {
        "colab": {
          "base_uri": "https://localhost:8080/",
          "height": 532
        },
        "id": "gqvRSdudZS8z",
        "outputId": "acc001ac-39da-4c77-a500-1052fc65ddf8"
      },
      "execution_count": 33,
      "outputs": [
        {
          "output_type": "stream",
          "name": "stdout",
          "text": [
            "`summarise()` has grouped output by 'client_id'. You can override using the\n",
            "`.groups` argument.\n"
          ]
        },
        {
          "output_type": "display_data",
          "data": {
            "image/png": "[encoded data removed]"
          },
          "metadata": {}
        }
      ]
    },
    {
      "cell_type": "markdown",
      "source": [
        "Étape 4 : Analyse du lien entre sexe et catégories de produits achetés\n",
        "Explorez les préférences des clients selon leur sexe."
      ],
      "metadata": {
        "id": "NNku48LTYDSy"
      }
    },
    {
      "cell_type": "code",
      "source": [
        "%%R\n",
        "# Préférences des catégories par sexe\n",
        "sex_categories <- merged_data %>%\n",
        "  group_by(sex, categ) %>%\n",
        "  summarise(total_revenue = sum(price, na.rm = TRUE)) %>%\n",
        "  ungroup()\n",
        "\n",
        "# Visualisation\n",
        "ggplot(sex_categories, aes(x = factor(categ), y = total_revenue, fill = sex)) +\n",
        "  geom_bar(stat = \"identity\", position = \"dodge\") +\n",
        "  labs(title = \"Chiffre d'Affaires par Catégorie et Sexe\",\n",
        "       x = \"Catégorie\", y = \"Chiffre d'affaires (€)\") +\n",
        "  theme_minimal()\n"
      ],
      "metadata": {
        "colab": {
          "base_uri": "https://localhost:8080/",
          "height": 532
        },
        "id": "RtDe6fgfYyyc",
        "outputId": "cd6eb590-bfcf-4570-83ff-4e44ed51391f"
      },
      "execution_count": 34,
      "outputs": [
        {
          "output_type": "stream",
          "name": "stdout",
          "text": [
            "`summarise()` has grouped output by 'sex'. You can override using the `.groups`\n",
            "argument.\n"
          ]
        },
        {
          "output_type": "display_data",
          "data": {
            "image/png": "[encoded data removed]"
          },
          "metadata": {}
        }
      ]
    },
    {
      "cell_type": "markdown",
      "source": [
        "Analyse 1 : Lien entre âge et panier moyen"
      ],
      "metadata": {
        "id": "mR-Rh1b1bHCx"
      }
    },
    {
      "cell_type": "code",
      "source": [
        "%%R\n",
        "# Calcul du panier moyen par tranche d'âge\n",
        "age_basket <- merged_data %>%\n",
        "  group_by(client_id, age_group = cut(age, breaks = c(0, 20, 30, 40, 50, 60, 70, 100), right = FALSE)) %>%\n",
        "  summarise(total_spent = sum(price, na.rm = TRUE)) %>%\n",
        "  group_by(age_group) %>%\n",
        "  summarise(avg_basket = mean(total_spent))\n",
        "\n",
        "# Visualisation du panier moyen par tranche d'âge\n",
        "ggplot(age_basket, aes(x = age_group, y = avg_basket)) +\n",
        "  geom_bar(stat = \"identity\", fill = \"purple\") +\n",
        "  labs(title = \"Panier Moyen par Tranche d'Âge\",\n",
        "       x = \"Tranche d'âge\", y = \"Panier moyen (€)\") +\n",
        "  theme_minimal()\n"
      ],
      "metadata": {
        "colab": {
          "base_uri": "https://localhost:8080/",
          "height": 532
        },
        "id": "sLtXcKa-bXQ3",
        "outputId": "d717e09a-4789-49f7-fff9-d45351db6439"
      },
      "execution_count": 35,
      "outputs": [
        {
          "output_type": "stream",
          "name": "stdout",
          "text": [
            "`summarise()` has grouped output by 'client_id'. You can override using the\n",
            "`.groups` argument.\n"
          ]
        },
        {
          "output_type": "display_data",
          "data": {
            "image/png": "[encoded data removed]"
          },
          "metadata": {}
        }
      ]
    },
    {
      "cell_type": "markdown",
      "source": [
        "Observations :\n",
        "\n",
        "Les tranches d’âge intermédiaires (30-50 ans) ont souvent un panier moyen plus élevé, probablement en raison de leur pouvoir d’achat.\n",
        "Les plus jeunes (<30 ans) et les plus âgés (>60 ans) ont un panier moyen plus faible.\n",
        "Recommandations :\n",
        "\n",
        "Ciblez les tranches d’âge 30-50 ans avec des promotions groupées ou des programmes de fidélité.\n",
        "Proposez des offres spéciales pour les jeunes (moins de 30 ans) avec des produits abordables.\n",
        "Simplifiez les parcours d’achat pour les seniors avec des recommandations personnalisées et des promotions adaptées."
      ],
      "metadata": {
        "id": "qBnX6YxXcsxt"
      }
    },
    {
      "cell_type": "markdown",
      "source": [
        "Analyse 2 : Corrélation entre âge et montant total des achats"
      ],
      "metadata": {
        "id": "YOkmLndebHMy"
      }
    },
    {
      "cell_type": "code",
      "source": [
        "%%R\n",
        "# Calcul des dépenses totales par client\n",
        "client_spending <- merged_data %>%\n",
        "  group_by(client_id, age) %>%\n",
        "  summarise(total_spent = sum(price, na.rm = TRUE))\n",
        "\n",
        "# Calcul et visualisation de la corrélation\n",
        "correlation <- cor(client_spending$age, client_spending$total_spent, use = \"complete.obs\")\n",
        "\n",
        "# Affichage du scatter plot\n",
        "ggplot(client_spending, aes(x = age, y = total_spent)) +\n",
        "  geom_point(color = \"blue\", alpha = 0.6) +\n",
        "  geom_smooth(method = \"lm\", color = \"red\") +\n",
        "  labs(title = paste(\"Corrélation entre Âge et Dépenses Totales (Corr =\", round(correlation, 2), \")\"),\n",
        "       x = \"Âge\", y = \"Dépenses totales (€)\") +\n",
        "  theme_minimal()\n"
      ],
      "metadata": {
        "colab": {
          "base_uri": "https://localhost:8080/",
          "height": 549
        },
        "id": "5Du_NmJxbpXd",
        "outputId": "5527fc5d-9af3-430e-e268-9d068acb6fe9"
      },
      "execution_count": 36,
      "outputs": [
        {
          "output_type": "stream",
          "name": "stdout",
          "text": [
            "`summarise()` has grouped output by 'client_id'. You can override using the\n",
            "`.groups` argument.\n",
            "`geom_smooth()` using formula = 'y ~ x'\n"
          ]
        },
        {
          "output_type": "display_data",
          "data": {
            "image/png": "[encoded data removed]"
          },
          "metadata": {}
        }
      ]
    },
    {
      "cell_type": "markdown",
      "source": [
        "Observations :\n",
        "\n",
        "Une légère corrélation positive entre l’âge et le montant total des achats pourrait indiquer que les clients plus âgés achètent davantage sur la plateforme.\n",
        "Toutefois, la dispersion dans le graphique montre des variations importantes.\n",
        "Recommandations :\n",
        "\n",
        "Personnalisez les stratégies marketing pour chaque tranche d’âge, en tenant compte des écarts observés.\n",
        "Analysez davantage les segments à forte dépense (>90e percentile) pour identifier les caractéristiques spécifiques de ces clients."
      ],
      "metadata": {
        "id": "cDpRJ8vnc189"
      }
    },
    {
      "cell_type": "markdown",
      "source": [
        "Analyse 3 : Répartition des dépenses par sexe"
      ],
      "metadata": {
        "id": "5GM-ah79b6Af"
      }
    },
    {
      "cell_type": "code",
      "source": [
        "%%R\n",
        "# Dépenses totales par sexe\n",
        "sex_spending <- merged_data %>%\n",
        "  group_by(sex) %>%\n",
        "  summarise(total_revenue = sum(price, na.rm = TRUE))\n",
        "\n",
        "# Visualisation des dépenses par sexe\n",
        "ggplot(sex_spending, aes(x = sex, y = total_revenue, fill = sex)) +\n",
        "  geom_bar(stat = \"identity\") +\n",
        "  labs(title = \"Répartition des Dépenses par Sexe\",\n",
        "       x = \"Sexe\", y = \"Dépenses totales (€)\") +\n",
        "  theme_minimal()\n"
      ],
      "metadata": {
        "colab": {
          "base_uri": "https://localhost:8080/",
          "height": 497
        },
        "id": "2q9IRfLzbHgG",
        "outputId": "b06fd9d4-8603-4bd3-d26a-f14031e699bc"
      },
      "execution_count": 37,
      "outputs": [
        {
          "output_type": "display_data",
          "data": {
            "image/png": "[encoded data removed]"
          },
          "metadata": {}
        }
      ]
    },
    {
      "cell_type": "markdown",
      "source": [
        "Observations :\n",
        "\n",
        "Les hommes semblent générer un chiffre d’affaires légèrement supérieur à celui des femmes.\n",
        "Cela pourrait indiquer une audience masculain plus active avec un comportement d’achat différent.\n",
        "Recommandations :\n",
        "\n",
        "Développez des campagnes marketing ciblées pour chaque sexe, avec des produits spécifiques.\n",
        "Analysez les catégories populaires par sexe pour renforcer les ventes dans les segments dominants."
      ],
      "metadata": {
        "id": "pDZvQdfPc61l"
      }
    },
    {
      "cell_type": "markdown",
      "source": [
        "Analyse 4 : Catégories les plus populaires par tranche d'âge"
      ],
      "metadata": {
        "id": "Eg3cexZ-cQWJ"
      }
    },
    {
      "cell_type": "code",
      "source": [
        "%%R\n",
        "# Calcul des ventes par catégorie et tranche d'âge\n",
        "age_category <- merged_data %>%\n",
        "  group_by(age_group = cut(age, breaks = c(0, 20, 30, 40, 50, 60, 70, 100), right = FALSE), categ) %>%\n",
        "  summarise(total_revenue = sum(price, na.rm = TRUE))\n",
        "\n",
        "# Visualisation\n",
        "ggplot(age_category, aes(x = factor(categ), y = total_revenue, fill = age_group)) +\n",
        "  geom_bar(stat = \"identity\", position = \"dodge\") +\n",
        "  labs(title = \"Catégories Préférées par Tranche d'Âge\",\n",
        "       x = \"Catégorie\", y = \"Chiffre d'affaires (€)\") +\n",
        "  theme_minimal()\n"
      ],
      "metadata": {
        "colab": {
          "base_uri": "https://localhost:8080/",
          "height": 532
        },
        "id": "2jhzfZpybHnZ",
        "outputId": "838428b3-0aff-49c6-d7c6-ff4a227af141"
      },
      "execution_count": 38,
      "outputs": [
        {
          "output_type": "stream",
          "name": "stdout",
          "text": [
            "`summarise()` has grouped output by 'age_group'. You can override using the\n",
            "`.groups` argument.\n"
          ]
        },
        {
          "output_type": "display_data",
          "data": {
            "image/png": "[encoded data removed]"
          },
          "metadata": {}
        }
      ]
    },
    {
      "cell_type": "markdown",
      "source": [
        "Observations :\n",
        "\n",
        "Certaines catégories de produits sont universellement populaires (présentes dans toutes les tranches d’âge).\n",
        "D’autres catégories montrent une préférence marquée pour des tranches spécifiques (par exemple, les livres jeunesse pour les moins de 30 ans).\n",
        "Recommandations :\n",
        "\n",
        "Adaptez les stocks et les promotions selon les tranches d’âge dominantes pour chaque catégorie.\n",
        "Proposez des suggestions dynamiques sur le site web pour guider les utilisateurs vers des catégories adaptées à leur âge."
      ],
      "metadata": {
        "id": "BhO_q8xmcdD3"
      }
    },
    {
      "cell_type": "code",
      "source": [],
      "metadata": {
        "id": "ed-LuanNcJk7"
      },
      "execution_count": 38,
      "outputs": []
    }
  ]
}