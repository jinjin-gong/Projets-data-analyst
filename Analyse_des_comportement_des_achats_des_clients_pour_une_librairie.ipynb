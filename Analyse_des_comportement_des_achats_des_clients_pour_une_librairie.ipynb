{
  "nbformat": 4,
  "nbformat_minor": 0,
  "metadata": {
    "colab": {
      "provenance": [],
      "authorship_tag": "ABX9TyMqVI4ub3Dn5v/KWiUT6u0S",
      "include_colab_link": true
    },
    "kernelspec": {
      "name": "python3",
      "display_name": "Python 3"
    },
    "language_info": {
      "name": "python"
    }
  },
  "cells": [
    {
      "cell_type": "markdown",
      "metadata": {
        "id": "view-in-github",
        "colab_type": "text"
      },
      "source": [
        "<a href=\"https://colab.research.google.com/github/jinjinamanda/Projets-data-analyst/blob/main/Analyse_des_comportement_des_achats_des_clients_pour_une_librairie.ipynb\" target=\"_parent\"><img src=\"https://colab.research.google.com/assets/colab-badge.svg\" alt=\"Open In Colab\"/></a>"
      ]
    },
    {
      "cell_type": "markdown",
      "source": [
        "1) Installer R dans Colab"
      ],
      "metadata": {
        "id": "PSQvaK4EQ1Y8"
      }
    },
    {
      "cell_type": "code",
      "source": [
        "!apt-get install -y r-base"
      ],
      "metadata": {
        "colab": {
          "base_uri": "https://localhost:8080/"
        },
        "id": "LPMt0BurQ5xe",
        "outputId": "3c1cc291-3372-4c01-9fd5-3973fa5e4b1a"
      },
      "execution_count": 111,
      "outputs": [
        {
          "output_type": "stream",
          "name": "stdout",
          "text": [
            "Reading package lists... Done\n",
            "Building dependency tree... Done\n",
            "Reading state information... Done\n",
            "r-base is already the newest version (4.4.2-1.2204.0).\n",
            "0 upgraded, 0 newly installed, 0 to remove and 49 not upgraded.\n"
          ]
        }
      ]
    },
    {
      "cell_type": "markdown",
      "source": [
        "2) Installer et configurer le noyau R (rpy2) :"
      ],
      "metadata": {
        "id": "k-u3btCdQ_F0"
      }
    },
    {
      "cell_type": "code",
      "source": [
        "!pip install -q rpy2"
      ],
      "metadata": {
        "id": "i_wiyA6LRDHl"
      },
      "execution_count": 112,
      "outputs": []
    },
    {
      "cell_type": "markdown",
      "source": [
        "3) Activer le noyau R dans Colab :"
      ],
      "metadata": {
        "id": "mzwwKV6FRKEg"
      }
    },
    {
      "cell_type": "code",
      "source": [
        "%load_ext rpy2.ipython\n"
      ],
      "metadata": {
        "colab": {
          "base_uri": "https://localhost:8080/"
        },
        "id": "GEQiqistRMPa",
        "outputId": "df38b3ae-d5b0-4d06-e8d3-4816b31f4bcd"
      },
      "execution_count": 113,
      "outputs": [
        {
          "output_type": "stream",
          "name": "stdout",
          "text": [
            "The rpy2.ipython extension is already loaded. To reload it, use:\n",
            "  %reload_ext rpy2.ipython\n"
          ]
        }
      ]
    },
    {
      "cell_type": "markdown",
      "source": [
        "5) Installer le package zoo"
      ],
      "metadata": {
        "id": "fEXi1-yaR8LC"
      }
    },
    {
      "cell_type": "code",
      "source": [
        "%%R\n",
        "install.packages(\"zoo\", repos = \"http://cran.r-project.org\")\n",
        "install.packages(\"dplyr\")"
      ],
      "metadata": {
        "colab": {
          "base_uri": "https://localhost:8080/"
        },
        "id": "8tpVWTj4R-6Y",
        "outputId": "ecb63654-9617-428d-a46b-40d37682a0bf"
      },
      "execution_count": 114,
      "outputs": [
        {
          "output_type": "stream",
          "name": "stderr",
          "text": [
            "WARNING:rpy2.rinterface_lib.callbacks:R[write to console]: Installing package into ‘/usr/local/lib/R/site-library’\n",
            "(as ‘lib’ is unspecified)\n",
            "\n",
            "WARNING:rpy2.rinterface_lib.callbacks:R[write to console]: trying URL 'http://cran.r-project.org/src/contrib/zoo_1.8-12.tar.gz'\n",
            "\n",
            "WARNING:rpy2.rinterface_lib.callbacks:R[write to console]: Content type 'application/x-gzip'\n",
            "WARNING:rpy2.rinterface_lib.callbacks:R[write to console]:  length 782344 bytes (764 KB)\n",
            "\n",
            "WARNING:rpy2.rinterface_lib.callbacks:R[write to console]: =\n",
            "WARNING:rpy2.rinterface_lib.callbacks:R[write to console]: =\n",
            "WARNING:rpy2.rinterface_lib.callbacks:R[write to console]: =\n",
            "WARNING:rpy2.rinterface_lib.callbacks:R[write to console]: =\n",
            "WARNING:rpy2.rinterface_lib.callbacks:R[write to console]: =\n",
            "WARNING:rpy2.rinterface_lib.callbacks:R[write to console]: =\n",
            "WARNING:rpy2.rinterface_lib.callbacks:R[write to console]: =\n",
            "WARNING:rpy2.rinterface_lib.callbacks:R[write to console]: =\n",
            "WARNING:rpy2.rinterface_lib.callbacks:R[write to console]: =\n",
            "WARNING:rpy2.rinterface_lib.callbacks:R[write to console]: =\n",
            "WARNING:rpy2.rinterface_lib.callbacks:R[write to console]: =\n",
            "WARNING:rpy2.rinterface_lib.callbacks:R[write to console]: =\n",
            "WARNING:rpy2.rinterface_lib.callbacks:R[write to console]: =\n",
            "WARNING:rpy2.rinterface_lib.callbacks:R[write to console]: =\n",
            "WARNING:rpy2.rinterface_lib.callbacks:R[write to console]: =\n",
            "WARNING:rpy2.rinterface_lib.callbacks:R[write to console]: =\n",
            "WARNING:rpy2.rinterface_lib.callbacks:R[write to console]: =\n",
            "WARNING:rpy2.rinterface_lib.callbacks:R[write to console]: =\n",
            "WARNING:rpy2.rinterface_lib.callbacks:R[write to console]: =\n",
            "WARNING:rpy2.rinterface_lib.callbacks:R[write to console]: =\n",
            "WARNING:rpy2.rinterface_lib.callbacks:R[write to console]: =\n",
            "WARNING:rpy2.rinterface_lib.callbacks:R[write to console]: =\n",
            "WARNING:rpy2.rinterface_lib.callbacks:R[write to console]: =\n",
            "WARNING:rpy2.rinterface_lib.callbacks:R[write to console]: =\n",
            "WARNING:rpy2.rinterface_lib.callbacks:R[write to console]: =\n",
            "WARNING:rpy2.rinterface_lib.callbacks:R[write to console]: =\n",
            "WARNING:rpy2.rinterface_lib.callbacks:R[write to console]: =\n",
            "WARNING:rpy2.rinterface_lib.callbacks:R[write to console]: =\n",
            "WARNING:rpy2.rinterface_lib.callbacks:R[write to console]: =\n",
            "WARNING:rpy2.rinterface_lib.callbacks:R[write to console]: =\n",
            "WARNING:rpy2.rinterface_lib.callbacks:R[write to console]: =\n",
            "WARNING:rpy2.rinterface_lib.callbacks:R[write to console]: =\n",
            "WARNING:rpy2.rinterface_lib.callbacks:R[write to console]: =\n",
            "WARNING:rpy2.rinterface_lib.callbacks:R[write to console]: =\n",
            "WARNING:rpy2.rinterface_lib.callbacks:R[write to console]: =\n",
            "WARNING:rpy2.rinterface_lib.callbacks:R[write to console]: =\n",
            "WARNING:rpy2.rinterface_lib.callbacks:R[write to console]: =\n",
            "WARNING:rpy2.rinterface_lib.callbacks:R[write to console]: =\n",
            "WARNING:rpy2.rinterface_lib.callbacks:R[write to console]: =\n",
            "WARNING:rpy2.rinterface_lib.callbacks:R[write to console]: =\n",
            "WARNING:rpy2.rinterface_lib.callbacks:R[write to console]: =\n",
            "WARNING:rpy2.rinterface_lib.callbacks:R[write to console]: =\n",
            "WARNING:rpy2.rinterface_lib.callbacks:R[write to console]: =\n",
            "WARNING:rpy2.rinterface_lib.callbacks:R[write to console]: =\n",
            "WARNING:rpy2.rinterface_lib.callbacks:R[write to console]: =\n",
            "WARNING:rpy2.rinterface_lib.callbacks:R[write to console]: =\n",
            "WARNING:rpy2.rinterface_lib.callbacks:R[write to console]: =\n",
            "WARNING:rpy2.rinterface_lib.callbacks:R[write to console]: =\n",
            "WARNING:rpy2.rinterface_lib.callbacks:R[write to console]: =\n",
            "WARNING:rpy2.rinterface_lib.callbacks:R[write to console]: =\n",
            "WARNING:rpy2.rinterface_lib.callbacks:R[write to console]: \n",
            "\n",
            "WARNING:rpy2.rinterface_lib.callbacks:R[write to console]: downloaded 764 KB\n",
            "\n",
            "\n",
            "WARNING:rpy2.rinterface_lib.callbacks:R[write to console]: \n",
            "\n",
            "WARNING:rpy2.rinterface_lib.callbacks:R[write to console]: \n",
            "WARNING:rpy2.rinterface_lib.callbacks:R[write to console]: The downloaded source packages are in\n",
            "\t‘/tmp/RtmpBmKkdk/downloaded_packages’\n",
            "WARNING:rpy2.rinterface_lib.callbacks:R[write to console]: \n",
            "WARNING:rpy2.rinterface_lib.callbacks:R[write to console]: \n",
            "\n",
            "WARNING:rpy2.rinterface_lib.callbacks:R[write to console]: Installing package into ‘/usr/local/lib/R/site-library’\n",
            "(as ‘lib’ is unspecified)\n",
            "\n",
            "WARNING:rpy2.rinterface_lib.callbacks:R[write to console]: trying URL 'https://cran.rstudio.com/src/contrib/dplyr_1.1.4.tar.gz'\n",
            "\n",
            "WARNING:rpy2.rinterface_lib.callbacks:R[write to console]: Content type 'application/x-gzip'\n",
            "WARNING:rpy2.rinterface_lib.callbacks:R[write to console]:  length 1207521 bytes (1.2 MB)\n",
            "\n",
            "WARNING:rpy2.rinterface_lib.callbacks:R[write to console]: =\n",
            "WARNING:rpy2.rinterface_lib.callbacks:R[write to console]: =\n",
            "WARNING:rpy2.rinterface_lib.callbacks:R[write to console]: =\n",
            "WARNING:rpy2.rinterface_lib.callbacks:R[write to console]: =\n",
            "WARNING:rpy2.rinterface_lib.callbacks:R[write to console]: =\n",
            "WARNING:rpy2.rinterface_lib.callbacks:R[write to console]: =\n",
            "WARNING:rpy2.rinterface_lib.callbacks:R[write to console]: =\n",
            "WARNING:rpy2.rinterface_lib.callbacks:R[write to console]: =\n",
            "WARNING:rpy2.rinterface_lib.callbacks:R[write to console]: =\n",
            "WARNING:rpy2.rinterface_lib.callbacks:R[write to console]: =\n",
            "WARNING:rpy2.rinterface_lib.callbacks:R[write to console]: =\n",
            "WARNING:rpy2.rinterface_lib.callbacks:R[write to console]: =\n",
            "WARNING:rpy2.rinterface_lib.callbacks:R[write to console]: =\n",
            "WARNING:rpy2.rinterface_lib.callbacks:R[write to console]: =\n",
            "WARNING:rpy2.rinterface_lib.callbacks:R[write to console]: =\n",
            "WARNING:rpy2.rinterface_lib.callbacks:R[write to console]: =\n",
            "WARNING:rpy2.rinterface_lib.callbacks:R[write to console]: =\n",
            "WARNING:rpy2.rinterface_lib.callbacks:R[write to console]: =\n",
            "WARNING:rpy2.rinterface_lib.callbacks:R[write to console]: =\n",
            "WARNING:rpy2.rinterface_lib.callbacks:R[write to console]: =\n",
            "WARNING:rpy2.rinterface_lib.callbacks:R[write to console]: =\n",
            "WARNING:rpy2.rinterface_lib.callbacks:R[write to console]: =\n",
            "WARNING:rpy2.rinterface_lib.callbacks:R[write to console]: =\n",
            "WARNING:rpy2.rinterface_lib.callbacks:R[write to console]: =\n",
            "WARNING:rpy2.rinterface_lib.callbacks:R[write to console]: =\n",
            "WARNING:rpy2.rinterface_lib.callbacks:R[write to console]: =\n",
            "WARNING:rpy2.rinterface_lib.callbacks:R[write to console]: =\n",
            "WARNING:rpy2.rinterface_lib.callbacks:R[write to console]: =\n",
            "WARNING:rpy2.rinterface_lib.callbacks:R[write to console]: =\n",
            "WARNING:rpy2.rinterface_lib.callbacks:R[write to console]: =\n",
            "WARNING:rpy2.rinterface_lib.callbacks:R[write to console]: =\n",
            "WARNING:rpy2.rinterface_lib.callbacks:R[write to console]: =\n",
            "WARNING:rpy2.rinterface_lib.callbacks:R[write to console]: =\n",
            "WARNING:rpy2.rinterface_lib.callbacks:R[write to console]: =\n",
            "WARNING:rpy2.rinterface_lib.callbacks:R[write to console]: =\n",
            "WARNING:rpy2.rinterface_lib.callbacks:R[write to console]: =\n",
            "WARNING:rpy2.rinterface_lib.callbacks:R[write to console]: =\n",
            "WARNING:rpy2.rinterface_lib.callbacks:R[write to console]: =\n",
            "WARNING:rpy2.rinterface_lib.callbacks:R[write to console]: =\n",
            "WARNING:rpy2.rinterface_lib.callbacks:R[write to console]: =\n",
            "WARNING:rpy2.rinterface_lib.callbacks:R[write to console]: =\n",
            "WARNING:rpy2.rinterface_lib.callbacks:R[write to console]: =\n",
            "WARNING:rpy2.rinterface_lib.callbacks:R[write to console]: =\n",
            "WARNING:rpy2.rinterface_lib.callbacks:R[write to console]: =\n",
            "WARNING:rpy2.rinterface_lib.callbacks:R[write to console]: =\n",
            "WARNING:rpy2.rinterface_lib.callbacks:R[write to console]: =\n",
            "WARNING:rpy2.rinterface_lib.callbacks:R[write to console]: =\n",
            "WARNING:rpy2.rinterface_lib.callbacks:R[write to console]: =\n",
            "WARNING:rpy2.rinterface_lib.callbacks:R[write to console]: =\n",
            "WARNING:rpy2.rinterface_lib.callbacks:R[write to console]: =\n",
            "WARNING:rpy2.rinterface_lib.callbacks:R[write to console]: \n",
            "\n",
            "WARNING:rpy2.rinterface_lib.callbacks:R[write to console]: downloaded 1.2 MB\n",
            "\n",
            "\n",
            "WARNING:rpy2.rinterface_lib.callbacks:R[write to console]: \n",
            "\n",
            "WARNING:rpy2.rinterface_lib.callbacks:R[write to console]: \n",
            "WARNING:rpy2.rinterface_lib.callbacks:R[write to console]: The downloaded source packages are in\n",
            "\t‘/tmp/RtmpBmKkdk/downloaded_packages’\n",
            "WARNING:rpy2.rinterface_lib.callbacks:R[write to console]: \n",
            "WARNING:rpy2.rinterface_lib.callbacks:R[write to console]: \n",
            "\n"
          ]
        }
      ]
    },
    {
      "cell_type": "markdown",
      "source": [
        "6) Charger le package après installation"
      ],
      "metadata": {
        "id": "Q5346y8cSX1A"
      }
    },
    {
      "cell_type": "code",
      "source": [
        "%%R\n",
        "library(zoo)"
      ],
      "metadata": {
        "id": "blbAWODPSfp-"
      },
      "execution_count": 115,
      "outputs": []
    },
    {
      "cell_type": "markdown",
      "source": [
        "7) Installer et charger le package stringr"
      ],
      "metadata": {
        "id": "gdxSdmVyTNfP"
      }
    },
    {
      "cell_type": "code",
      "source": [
        "%%R\n",
        "install.packages(\"stringr\", repos = \"http://cran.r-project.org\")\n",
        "library(stringr)\n"
      ],
      "metadata": {
        "colab": {
          "base_uri": "https://localhost:8080/"
        },
        "id": "-n0EjO1XTJsA",
        "outputId": "16c45dba-8bc6-415c-c468-649ffea05984"
      },
      "execution_count": 116,
      "outputs": [
        {
          "output_type": "stream",
          "name": "stderr",
          "text": [
            "WARNING:rpy2.rinterface_lib.callbacks:R[write to console]: Installing package into ‘/usr/local/lib/R/site-library’\n",
            "(as ‘lib’ is unspecified)\n",
            "\n",
            "WARNING:rpy2.rinterface_lib.callbacks:R[write to console]: trying URL 'http://cran.r-project.org/src/contrib/stringr_1.5.1.tar.gz'\n",
            "\n",
            "WARNING:rpy2.rinterface_lib.callbacks:R[write to console]: Content type 'application/x-gzip'\n",
            "WARNING:rpy2.rinterface_lib.callbacks:R[write to console]:  length 176599 bytes (172 KB)\n",
            "\n",
            "WARNING:rpy2.rinterface_lib.callbacks:R[write to console]: =\n",
            "WARNING:rpy2.rinterface_lib.callbacks:R[write to console]: =\n",
            "WARNING:rpy2.rinterface_lib.callbacks:R[write to console]: =\n",
            "WARNING:rpy2.rinterface_lib.callbacks:R[write to console]: =\n",
            "WARNING:rpy2.rinterface_lib.callbacks:R[write to console]: =\n",
            "WARNING:rpy2.rinterface_lib.callbacks:R[write to console]: =\n",
            "WARNING:rpy2.rinterface_lib.callbacks:R[write to console]: =\n",
            "WARNING:rpy2.rinterface_lib.callbacks:R[write to console]: =\n",
            "WARNING:rpy2.rinterface_lib.callbacks:R[write to console]: =\n",
            "WARNING:rpy2.rinterface_lib.callbacks:R[write to console]: =\n",
            "WARNING:rpy2.rinterface_lib.callbacks:R[write to console]: =\n",
            "WARNING:rpy2.rinterface_lib.callbacks:R[write to console]: =\n",
            "WARNING:rpy2.rinterface_lib.callbacks:R[write to console]: =\n",
            "WARNING:rpy2.rinterface_lib.callbacks:R[write to console]: =\n",
            "WARNING:rpy2.rinterface_lib.callbacks:R[write to console]: =\n",
            "WARNING:rpy2.rinterface_lib.callbacks:R[write to console]: =\n",
            "WARNING:rpy2.rinterface_lib.callbacks:R[write to console]: =\n",
            "WARNING:rpy2.rinterface_lib.callbacks:R[write to console]: =\n",
            "WARNING:rpy2.rinterface_lib.callbacks:R[write to console]: =\n",
            "WARNING:rpy2.rinterface_lib.callbacks:R[write to console]: =\n",
            "WARNING:rpy2.rinterface_lib.callbacks:R[write to console]: =\n",
            "WARNING:rpy2.rinterface_lib.callbacks:R[write to console]: =\n",
            "WARNING:rpy2.rinterface_lib.callbacks:R[write to console]: =\n",
            "WARNING:rpy2.rinterface_lib.callbacks:R[write to console]: =\n",
            "WARNING:rpy2.rinterface_lib.callbacks:R[write to console]: =\n",
            "WARNING:rpy2.rinterface_lib.callbacks:R[write to console]: =\n",
            "WARNING:rpy2.rinterface_lib.callbacks:R[write to console]: =\n",
            "WARNING:rpy2.rinterface_lib.callbacks:R[write to console]: =\n",
            "WARNING:rpy2.rinterface_lib.callbacks:R[write to console]: =\n",
            "WARNING:rpy2.rinterface_lib.callbacks:R[write to console]: =\n",
            "WARNING:rpy2.rinterface_lib.callbacks:R[write to console]: =\n",
            "WARNING:rpy2.rinterface_lib.callbacks:R[write to console]: =\n",
            "WARNING:rpy2.rinterface_lib.callbacks:R[write to console]: =\n",
            "WARNING:rpy2.rinterface_lib.callbacks:R[write to console]: =\n",
            "WARNING:rpy2.rinterface_lib.callbacks:R[write to console]: =\n",
            "WARNING:rpy2.rinterface_lib.callbacks:R[write to console]: =\n",
            "WARNING:rpy2.rinterface_lib.callbacks:R[write to console]: =\n",
            "WARNING:rpy2.rinterface_lib.callbacks:R[write to console]: =\n",
            "WARNING:rpy2.rinterface_lib.callbacks:R[write to console]: =\n",
            "WARNING:rpy2.rinterface_lib.callbacks:R[write to console]: =\n",
            "WARNING:rpy2.rinterface_lib.callbacks:R[write to console]: =\n",
            "WARNING:rpy2.rinterface_lib.callbacks:R[write to console]: =\n",
            "WARNING:rpy2.rinterface_lib.callbacks:R[write to console]: =\n",
            "WARNING:rpy2.rinterface_lib.callbacks:R[write to console]: =\n",
            "WARNING:rpy2.rinterface_lib.callbacks:R[write to console]: =\n",
            "WARNING:rpy2.rinterface_lib.callbacks:R[write to console]: =\n",
            "WARNING:rpy2.rinterface_lib.callbacks:R[write to console]: =\n",
            "WARNING:rpy2.rinterface_lib.callbacks:R[write to console]: =\n",
            "WARNING:rpy2.rinterface_lib.callbacks:R[write to console]: =\n",
            "WARNING:rpy2.rinterface_lib.callbacks:R[write to console]: =\n",
            "WARNING:rpy2.rinterface_lib.callbacks:R[write to console]: \n",
            "\n",
            "WARNING:rpy2.rinterface_lib.callbacks:R[write to console]: downloaded 172 KB\n",
            "\n",
            "\n",
            "WARNING:rpy2.rinterface_lib.callbacks:R[write to console]: \n",
            "\n",
            "WARNING:rpy2.rinterface_lib.callbacks:R[write to console]: \n",
            "WARNING:rpy2.rinterface_lib.callbacks:R[write to console]: The downloaded source packages are in\n",
            "\t‘/tmp/RtmpBmKkdk/downloaded_packages’\n",
            "WARNING:rpy2.rinterface_lib.callbacks:R[write to console]: \n",
            "WARNING:rpy2.rinterface_lib.callbacks:R[write to console]: \n",
            "\n"
          ]
        }
      ]
    },
    {
      "cell_type": "markdown",
      "source": [
        "Load fichiers"
      ],
      "metadata": {
        "id": "84SNO0bcjKDt"
      }
    },
    {
      "cell_type": "code",
      "source": [
        "%%R\n",
        "customers <- read.csv(\"/content/customers.csv\")\n",
        "products <- read.csv(\"/content/products.csv\")\n",
        "transactions <- read.csv(\"/content/transactions.csv\")"
      ],
      "metadata": {
        "id": "PREJHnkIjNI4"
      },
      "execution_count": 117,
      "outputs": []
    },
    {
      "cell_type": "markdown",
      "source": [
        "8) Description fichiers"
      ],
      "metadata": {
        "id": "NOA42RPhURQG"
      }
    },
    {
      "cell_type": "code",
      "source": [
        "%%R\n",
        "# Aperçu des premières lignes\n",
        "head(customers)\n",
        "head(products)\n",
        "head(transactions)"
      ],
      "metadata": {
        "colab": {
          "base_uri": "https://localhost:8080/"
        },
        "id": "Ti10wYAHUZJ6",
        "outputId": "59801e14-d47b-476c-ad24-fe65481948c7"
      },
      "execution_count": 118,
      "outputs": [
        {
          "output_type": "stream",
          "name": "stdout",
          "text": [
            "  id_prod                       date session_id client_id\n",
            "1  0_1518 2022-05-20 13:21:29.043970   s_211425     c_103\n",
            "2   1_251 2022-02-02 07:55:19.149409   s_158752    c_8534\n",
            "3  0_1277 2022-06-18 15:44:33.155329   s_225667    c_6714\n",
            "4   2_209 2021-06-24 04:19:29.835891    s_52962    c_6941\n",
            "5  0_1509 2023-01-11 08:22:08.194479   s_325227    c_4232\n",
            "6  0_1418 2022-10-20 15:59:16.084030   s_285425    c_1478\n"
          ]
        }
      ]
    },
    {
      "cell_type": "code",
      "source": [
        "# Aperçu de la structure des données\n",
        "%%R\n",
        "str(customers)\n",
        "str(products)\n",
        "str(transactions)"
      ],
      "metadata": {
        "colab": {
          "base_uri": "https://localhost:8080/"
        },
        "id": "DGmyWcd9U23v",
        "outputId": "343f4a0e-5374-47fb-b909-40f77d65113f"
      },
      "execution_count": 119,
      "outputs": [
        {
          "output_type": "stream",
          "name": "stdout",
          "text": [
            "'data.frame':\t8623 obs. of  3 variables:\n",
            " $ client_id: chr  \"c_4410\" \"c_7839\" \"c_1699\" \"c_5961\" ...\n",
            " $ sex      : chr  \"f\" \"f\" \"f\" \"f\" ...\n",
            " $ birth    : int  1967 1975 1984 1962 1943 1993 1967 1978 1971 1993 ...\n",
            "'data.frame':\t3287 obs. of  3 variables:\n",
            " $ id_prod: chr  \"0_1421\" \"0_1368\" \"0_731\" \"1_587\" ...\n",
            " $ price  : num  19.99 5.13 17.99 4.99 3.99 ...\n",
            " $ categ  : int  0 0 0 1 0 0 1 0 0 0 ...\n",
            "'data.frame':\t679532 obs. of  4 variables:\n",
            " $ id_prod   : chr  \"0_1518\" \"1_251\" \"0_1277\" \"2_209\" ...\n",
            " $ date      : chr  \"2022-05-20 13:21:29.043970\" \"2022-02-02 07:55:19.149409\" \"2022-06-18 15:44:33.155329\" \"2021-06-24 04:19:29.835891\" ...\n",
            " $ session_id: chr  \"s_211425\" \"s_158752\" \"s_225667\" \"s_52962\" ...\n",
            " $ client_id : chr  \"c_103\" \"c_8534\" \"c_6714\" \"c_6941\" ...\n"
          ]
        }
      ]
    },
    {
      "cell_type": "markdown",
      "source": [
        "9) Vérifier les valeurs manquantes"
      ],
      "metadata": {
        "id": "16qN06tNVC_e"
      }
    },
    {
      "cell_type": "code",
      "source": [
        "# Vérifier les valeurs manquantes\n",
        "%%R\n",
        "sapply(customers, function(x) sum(is.na(x)))\n",
        "sapply(products, function(x) sum(is.na(x)))\n",
        "sapply(transactions, function(x) sum(is.na(x)))\n"
      ],
      "metadata": {
        "colab": {
          "base_uri": "https://localhost:8080/"
        },
        "id": "zTT-rSMnVInK",
        "outputId": "dcb587e3-c252-4dcd-eae4-8ca91c01b4bb"
      },
      "execution_count": 120,
      "outputs": [
        {
          "output_type": "stream",
          "name": "stdout",
          "text": [
            "   id_prod       date session_id  client_id \n",
            "         0          0          0          0 \n"
          ]
        }
      ]
    },
    {
      "cell_type": "markdown",
      "source": [
        "10) Vérifier si les types des colonnes sont corrects"
      ],
      "metadata": {
        "id": "-KITwMRYVXJm"
      }
    },
    {
      "cell_type": "code",
      "source": [
        "# Vérifier si la colonne date est bien de type datetime\n",
        "%%R\n",
        "class(transactions$date)\n",
        "\n",
        "# Si nécessaire, convertir en datetime\n",
        "transactions$date <- as.POSIXct(transactions$date, format = \"%Y-%m-%d %H:%M:%S\")\n"
      ],
      "metadata": {
        "id": "vAZZe-vqVa-Z"
      },
      "execution_count": 121,
      "outputs": []
    },
    {
      "cell_type": "markdown",
      "source": [
        "11) Fusionner les tables"
      ],
      "metadata": {
        "id": "UjMjZBiVVmNH"
      }
    },
    {
      "cell_type": "code",
      "source": [
        "# Fusion transactions et produits\n",
        "%%R\n",
        "merged_data <- transactions %>%\n",
        "  left_join(products, by = \"id_prod\")\n",
        "\n",
        "# Ajouter les informations des clients\n",
        "merged_data <- merged_data %>%\n",
        "  left_join(customers, by = \"client_id\")\n"
      ],
      "metadata": {
        "id": "eOlysSVSVuQR"
      },
      "execution_count": 122,
      "outputs": []
    },
    {
      "cell_type": "markdown",
      "source": [
        "12) Calcul du chiffre d'affaires mensuel\n",
        "Ajoute une colonne pour regrouper par mois et calculons le chiffre d'affaires."
      ],
      "metadata": {
        "id": "WZ9PB9-nVmoB"
      }
    },
    {
      "cell_type": "code",
      "source": [
        "# Ajouter une colonne \"mois\" pour le regroupement\n",
        "%%R\n",
        "merged_data <- merged_data %>%\n",
        "  mutate(month = as.Date(format(date, \"%Y-%m-01\")))\n",
        "\n",
        "# Calcul du chiffre d'affaires mensuel\n",
        "monthly_revenue <- merged_data %>%\n",
        "  group_by(month) %>%\n",
        "  summarise(revenue = sum(price, na.rm = TRUE))\n",
        "\n",
        "# Aperçu des résultats\n",
        "head(monthly_revenue)\n"
      ],
      "metadata": {
        "colab": {
          "base_uri": "https://localhost:8080/"
        },
        "id": "rSIKm_fhWlXP",
        "outputId": "10c601fc-1155-4281-e3b4-e0082884bf5c"
      },
      "execution_count": 123,
      "outputs": [
        {
          "output_type": "stream",
          "name": "stdout",
          "text": [
            "# A tibble: 6 × 2\n",
            "  month      revenue\n",
            "  <date>       <dbl>\n",
            "1 2021-03-01 482441.\n",
            "2 2021-04-01 476109.\n",
            "3 2021-05-01 492943.\n",
            "4 2021-06-01 484089.\n",
            "5 2021-07-01 482835.\n",
            "6 2021-08-01 482285.\n"
          ]
        }
      ]
    },
    {
      "cell_type": "markdown",
      "source": [
        "13) Calcul de la tendance (moyenne mobile)\n",
        "Utilise le package zoo pour calculer une moyenne mobile sur 3 mois."
      ],
      "metadata": {
        "id": "2ABDX9lHVmss"
      }
    },
    {
      "cell_type": "code",
      "source": [
        "# Ajouter une moyenne mobile sur 3 mois\n",
        "%%R\n",
        "library(zoo)\n",
        "monthly_revenue <- monthly_revenue %>%\n",
        "  mutate(revenue_ma_3 = rollmean(revenue, 3, fill = NA))\n",
        "\n",
        "# Aperçu des données avec tendance\n",
        "head(monthly_revenue)\n"
      ],
      "metadata": {
        "colab": {
          "base_uri": "https://localhost:8080/"
        },
        "id": "y79HC2vWXArp",
        "outputId": "7f895803-2eb6-4c81-8a2d-9b2392d21a4e"
      },
      "execution_count": 124,
      "outputs": [
        {
          "output_type": "stream",
          "name": "stdout",
          "text": [
            "# A tibble: 6 × 3\n",
            "  month      revenue revenue_ma_3\n",
            "  <date>       <dbl>        <dbl>\n",
            "1 2021-03-01 482441.          NA \n",
            "2 2021-04-01 476109.      483831.\n",
            "3 2021-05-01 492943.      484380.\n",
            "4 2021-06-01 484089.      486622.\n",
            "5 2021-07-01 482835.      483070.\n",
            "6 2021-08-01 482285.      490787.\n"
          ]
        }
      ]
    },
    {
      "cell_type": "markdown",
      "source": [
        "13) Visualisation du chiffre d'affaires\n",
        "Crée un graphique avec ggplot2 pour visualiser le chiffre d'affaires et sa tendance."
      ],
      "metadata": {
        "id": "fCCa_ltzXKIG"
      }
    },
    {
      "cell_type": "code",
      "source": [
        "%%R\n",
        "library(ggplot2)\n",
        "\n",
        "# Graphique de l'évolution du chiffre d'affaires\n",
        "ggplot(monthly_revenue, aes(x = month)) +\n",
        "  geom_line(aes(y = revenue, color = \"Chiffre d'affaires\")) +\n",
        "  geom_line(aes(y = revenue_ma_3, color = \"Tendance (Moyenne mobile 3 mois)\")) +\n",
        "  labs(title = \"Évolution du chiffre d'affaires mensuel\",\n",
        "       x = \"Mois\", y = \"Chiffre d'affaires (€)\") +\n",
        "  theme_minimal() +\n",
        "  scale_color_manual(\"\", values = c(\"blue\", \"red\"))\n"
      ],
      "metadata": {
        "colab": {
          "base_uri": "https://localhost:8080/",
          "height": 497
        },
        "id": "kJcv98gLXKbp",
        "outputId": "ff5c8dce-0a82-455a-be5a-2b8a1f72dd4b"
      },
      "execution_count": 125,
      "outputs": [
        {
          "output_type": "display_data",
          "data": {
            "image/png": "[encoded data removed]"
          },
          "metadata": {}
        }
      ]
    },
    {
      "cell_type": "markdown",
      "source": [
        "Étape 1 : Calcul du chiffre d'affaires par produit\n",
        "Regrouper les données fusionnées par produit et calculer le chiffre d'affaires."
      ],
      "metadata": {
        "id": "43xxeGMCRP7Y"
      }
    },
    {
      "cell_type": "code",
      "source": [
        "%%R\n",
        "# Calcul du chiffre d'affaires par produit\n",
        "product_revenue <- merged_data %>%\n",
        "  group_by(id_prod) %>%\n",
        "  summarise(total_revenue = sum(price, na.rm = TRUE)) %>%\n",
        "  arrange(desc(total_revenue))\n",
        "\n",
        "# Aperçu des produits les plus performants\n",
        "top_products <- head(product_revenue, 10)\n",
        "top_products\n",
        "\n",
        "# Aperçu des produits les moins performants\n",
        "flop_products <- tail(product_revenue, 10)\n",
        "flop_products\n"
      ],
      "metadata": {
        "colab": {
          "base_uri": "https://localhost:8080/"
        },
        "id": "9KkGKoxwXwGd",
        "outputId": "b42a275d-8327-4057-ac5a-abae0856fb59"
      },
      "execution_count": 126,
      "outputs": [
        {
          "output_type": "stream",
          "name": "stdout",
          "text": [
            "# A tibble: 10 × 2\n",
            "   id_prod total_revenue\n",
            "   <chr>           <dbl>\n",
            " 1 0_1498           2.48\n",
            " 2 0_1728           2.27\n",
            " 3 0_1601           1.99\n",
            " 4 0_541            1.99\n",
            " 5 0_807            1.99\n",
            " 6 0_1653           1.98\n",
            " 7 0_1284           1.38\n",
            " 8 0_1539           0.99\n",
            " 9 0_2245           0   \n",
            "10 T_0           -200   \n"
          ]
        }
      ]
    },
    {
      "cell_type": "markdown",
      "source": [
        "Étape 2 : Visualisation des tops et flops\n",
        "Créer deux graphiques pour afficher les produits les plus performants et les moins performants."
      ],
      "metadata": {
        "id": "qkZ4C8I6X2Pp"
      }
    },
    {
      "cell_type": "code",
      "source": [
        "%%R\n",
        "# Graphique des produits les plus performants\n",
        "ggplot(top_products, aes(x = reorder(id_prod, total_revenue), y = total_revenue)) +\n",
        "  geom_bar(stat = \"identity\", fill = \"blue\") +\n",
        "  coord_flip() +\n",
        "  labs(title = \"Top 10 Produits par Chiffre d'Affaires\",\n",
        "       x = \"Produits\", y = \"Chiffre d'affaires (€)\") +\n",
        "  theme_minimal()\n"
      ],
      "metadata": {
        "colab": {
          "base_uri": "https://localhost:8080/",
          "height": 497
        },
        "id": "x0mBwdIPX8D4",
        "outputId": "16bf0492-7df4-490a-a4df-0c87c75d7902"
      },
      "execution_count": 127,
      "outputs": [
        {
          "output_type": "display_data",
          "data": {
            "image/png": "[encoded data removed]"
          },
          "metadata": {}
        }
      ]
    },
    {
      "cell_type": "code",
      "source": [
        "%%R\n",
        "# Graphique des produits les moins performants\n",
        "ggplot(flop_products, aes(x = reorder(id_prod, total_revenue), y = total_revenue)) +\n",
        "  geom_bar(stat = \"identity\", fill = \"red\") +\n",
        "  coord_flip() +\n",
        "  labs(title = \"Flop 10 Produits par Chiffre d'Affaires\",\n",
        "       x = \"Produits\", y = \"Chiffre d'affaires (€)\") +\n",
        "  theme_minimal()\n"
      ],
      "metadata": {
        "colab": {
          "base_uri": "https://localhost:8080/",
          "height": 497
        },
        "id": "YUqyBI4jYDDF",
        "outputId": "b6d91ea0-2809-4c75-f471-3d84abbae474"
      },
      "execution_count": 128,
      "outputs": [
        {
          "output_type": "display_data",
          "data": {
            "image/png": "[encoded data removed]"
          },
          "metadata": {}
        }
      ]
    },
    {
      "cell_type": "markdown",
      "source": [
        "l’analyse des comportements clients, en explorant les relations entre les caractéristiques démographiques des clients (âge, sexe) et leurs comportements d’achat (montant total, fréquence, catégories de produits)."
      ],
      "metadata": {
        "id": "pkDHkvZQYe6K"
      }
    },
    {
      "cell_type": "markdown",
      "source": [
        "Étape 1 : Préparation des données\n",
        "Ajoutez une colonne pour calculer l’âge des clients.\n",
        "Fusionnez les données pour obtenir les informations nécessaires sur chaque client."
      ],
      "metadata": {
        "id": "e23lE4vBYn0x"
      }
    },
    {
      "cell_type": "code",
      "source": [
        "%%R\n",
        "# Calcul de l'âge des clients\n",
        "merged_data <- merged_data %>%\n",
        "  mutate(age = 2024 - birth)  # Remplacez 2024 par l'année actuelle si nécessaire\n",
        "\n",
        "# Vérification des données\n",
        "head(merged_data)\n"
      ],
      "metadata": {
        "colab": {
          "base_uri": "https://localhost:8080/"
        },
        "id": "Vy2-CUafYeea",
        "outputId": "3968a9b5-22b4-489e-c16c-d6d533e7d011"
      },
      "execution_count": 129,
      "outputs": [
        {
          "output_type": "stream",
          "name": "stdout",
          "text": [
            "  id_prod                date session_id client_id price categ sex birth\n",
            "1  0_1518 2022-05-20 13:21:29   s_211425     c_103  4.18     0   f  1986\n",
            "2   1_251 2022-02-02 07:55:19   s_158752    c_8534 15.99     1   m  1988\n",
            "3  0_1277 2022-06-18 15:44:33   s_225667    c_6714  7.99     0   f  1968\n",
            "4   2_209 2021-06-24 04:19:29    s_52962    c_6941 69.99     2   m  2000\n",
            "5  0_1509 2023-01-11 08:22:08   s_325227    c_4232  4.99     0   m  1980\n",
            "6  0_1418 2022-10-20 15:59:16   s_285425    c_1478  8.57     0   f  1972\n",
            "       month age\n",
            "1 2022-05-01  38\n",
            "2 2022-02-01  36\n",
            "3 2022-06-01  56\n",
            "4 2021-06-01  24\n",
            "5 2023-01-01  44\n",
            "6 2022-10-01  52\n"
          ]
        }
      ]
    },
    {
      "cell_type": "markdown",
      "source": [
        "Étape 2 : Analyse du lien entre âge et montant total des achats\n",
        "Nous allons regrouper les données par tranche d’âge et calculer le montant total des achats pour chaque tranche."
      ],
      "metadata": {
        "id": "_C6PhsbXYySa"
      }
    },
    {
      "cell_type": "code",
      "source": [
        "%%R\n",
        "# Calculer le montant total des achats par tranche d'âge\n",
        "age_purchase <- merged_data %>%\n",
        "  group_by(age_group = cut(age, breaks = c(0, 20, 30, 40, 50, 60, 70, 100), right = FALSE)) %>%\n",
        "  summarise(total_revenue = sum(price, na.rm = TRUE))\n",
        "\n",
        "# Visualisation des achats par tranche d'âge\n",
        "library(ggplot2)\n",
        "ggplot(age_purchase, aes(x = age_group, y = total_revenue)) +\n",
        "  geom_bar(stat = \"identity\", fill = \"steelblue\") +\n",
        "  labs(title = \"Montant Total des Achats par Tranche d'Âge\",\n",
        "       x = \"Tranche d'âge\", y = \"Montant total (€)\") +\n",
        "  theme_minimal()\n"
      ],
      "metadata": {
        "colab": {
          "base_uri": "https://localhost:8080/",
          "height": 497
        },
        "id": "6p5a-MhvZBB_",
        "outputId": "da7fc0a7-0d8c-44a2-c636-933802770329"
      },
      "execution_count": 130,
      "outputs": [
        {
          "output_type": "display_data",
          "data": {
            "image/png": "[encoded data removed]"
          },
          "metadata": {}
        }
      ]
    },
    {
      "cell_type": "markdown",
      "source": [
        "Étape 3 : Analyse du lien entre âge et fréquence d’achat\n",
        "Calculez la fréquence moyenne des achats par client et par tranche d’âge."
      ],
      "metadata": {
        "id": "C0aUBQdzYyh0"
      }
    },
    {
      "cell_type": "code",
      "source": [
        "%%R\n",
        "# Fréquence d'achat par tranche d'âge\n",
        "age_frequency <- merged_data %>%\n",
        "  group_by(client_id, age_group = cut(age, breaks = c(0, 20, 30, 40, 50, 60, 70, 100), right = FALSE)) %>%\n",
        "  summarise(frequency = n()) %>%\n",
        "  group_by(age_group) %>%\n",
        "  summarise(avg_frequency = mean(frequency))\n",
        "\n",
        "# Visualisation\n",
        "ggplot(age_frequency, aes(x = age_group, y = avg_frequency)) +\n",
        "  geom_bar(stat = \"identity\", fill = \"darkorange\") +\n",
        "  labs(title = \"Fréquence Moyenne des Achats par Tranche d'Âge\",\n",
        "       x = \"Tranche d'âge\", y = \"Fréquence moyenne\") +\n",
        "  theme_minimal()\n"
      ],
      "metadata": {
        "colab": {
          "base_uri": "https://localhost:8080/",
          "height": 532
        },
        "id": "gqvRSdudZS8z",
        "outputId": "62871756-1184-476b-850b-c0eee1b994a2"
      },
      "execution_count": 131,
      "outputs": [
        {
          "output_type": "stream",
          "name": "stdout",
          "text": [
            "`summarise()` has grouped output by 'client_id'. You can override using the\n",
            "`.groups` argument.\n"
          ]
        },
        {
          "output_type": "display_data",
          "data": {
            "image/png": "[encoded data removed]"
          },
          "metadata": {}
        }
      ]
    },
    {
      "cell_type": "markdown",
      "source": [
        "Étape 4 : Analyse du lien entre sexe et catégories de produits achetés\n",
        "Explorez les préférences des clients selon leur sexe."
      ],
      "metadata": {
        "id": "NNku48LTYDSy"
      }
    },
    {
      "cell_type": "code",
      "source": [
        "%%R\n",
        "# Préférences des catégories par sexe\n",
        "sex_categories <- merged_data %>%\n",
        "  group_by(sex, categ) %>%\n",
        "  summarise(total_revenue = sum(price, na.rm = TRUE)) %>%\n",
        "  ungroup()\n",
        "\n",
        "# Visualisation\n",
        "ggplot(sex_categories, aes(x = factor(categ), y = total_revenue, fill = sex)) +\n",
        "  geom_bar(stat = \"identity\", position = \"dodge\") +\n",
        "  labs(title = \"Chiffre d'Affaires par Catégorie et Sexe\",\n",
        "       x = \"Catégorie\", y = \"Chiffre d'affaires (€)\") +\n",
        "  theme_minimal()\n"
      ],
      "metadata": {
        "colab": {
          "base_uri": "https://localhost:8080/",
          "height": 532
        },
        "id": "RtDe6fgfYyyc",
        "outputId": "326677dd-ce95-4186-b34c-17712d13e70a"
      },
      "execution_count": 132,
      "outputs": [
        {
          "output_type": "stream",
          "name": "stdout",
          "text": [
            "`summarise()` has grouped output by 'sex'. You can override using the `.groups`\n",
            "argument.\n"
          ]
        },
        {
          "output_type": "display_data",
          "data": {
            "image/png": "[encoded data removed]"
          },
          "metadata": {}
        }
      ]
    },
    {
      "cell_type": "markdown",
      "source": [
        "Analyse 1 : Lien entre âge et panier moyen"
      ],
      "metadata": {
        "id": "mR-Rh1b1bHCx"
      }
    },
    {
      "cell_type": "code",
      "source": [
        "%%R\n",
        "# Calcul du panier moyen par tranche d'âge\n",
        "age_basket <- merged_data %>%\n",
        "  group_by(client_id, age_group = cut(age, breaks = c(0, 20, 30, 40, 50, 60, 70, 100), right = FALSE)) %>%\n",
        "  summarise(total_spent = sum(price, na.rm = TRUE)) %>%\n",
        "  group_by(age_group) %>%\n",
        "  summarise(avg_basket = mean(total_spent))\n",
        "\n",
        "# Visualisation du panier moyen par tranche d'âge\n",
        "ggplot(age_basket, aes(x = age_group, y = avg_basket)) +\n",
        "  geom_bar(stat = \"identity\", fill = \"purple\") +\n",
        "  labs(title = \"Panier Moyen par Tranche d'Âge\",\n",
        "       x = \"Tranche d'âge\", y = \"Panier moyen (€)\") +\n",
        "  theme_minimal()\n"
      ],
      "metadata": {
        "colab": {
          "base_uri": "https://localhost:8080/",
          "height": 532
        },
        "id": "sLtXcKa-bXQ3",
        "outputId": "69e1f34e-0701-4947-df5d-0ea20d9014c9"
      },
      "execution_count": 133,
      "outputs": [
        {
          "output_type": "stream",
          "name": "stdout",
          "text": [
            "`summarise()` has grouped output by 'client_id'. You can override using the\n",
            "`.groups` argument.\n"
          ]
        },
        {
          "output_type": "display_data",
          "data": {
            "image/png": "[encoded data removed]"
          },
          "metadata": {}
        }
      ]
    },
    {
      "cell_type": "markdown",
      "source": [
        "Observations :\n",
        "\n",
        "Les tranches d’âge intermédiaires (30-50 ans) ont souvent un panier moyen plus élevé, probablement en raison de leur pouvoir d’achat.\n",
        "Les plus jeunes (<30 ans) et les plus âgés (>60 ans) ont un panier moyen plus faible.\n",
        "Recommandations :\n",
        "\n",
        "Ciblez les tranches d’âge 30-50 ans avec des promotions groupées ou des programmes de fidélité.\n",
        "Proposez des offres spéciales pour les jeunes (moins de 30 ans) avec des produits abordables.\n",
        "Simplifiez les parcours d’achat pour les seniors avec des recommandations personnalisées et des promotions adaptées."
      ],
      "metadata": {
        "id": "qBnX6YxXcsxt"
      }
    },
    {
      "cell_type": "markdown",
      "source": [
        "Analyse 2 : Corrélation entre âge et montant total des achats"
      ],
      "metadata": {
        "id": "YOkmLndebHMy"
      }
    },
    {
      "cell_type": "code",
      "source": [
        "%%R\n",
        "# Calcul des dépenses totales par client\n",
        "client_spending <- merged_data %>%\n",
        "  group_by(client_id, age) %>%\n",
        "  summarise(total_spent = sum(price, na.rm = TRUE))\n",
        "\n",
        "# Calcul et visualisation de la corrélation\n",
        "correlation <- cor(client_spending$age, client_spending$total_spent, use = \"complete.obs\")\n",
        "\n",
        "# Affichage du scatter plot\n",
        "ggplot(client_spending, aes(x = age, y = total_spent)) +\n",
        "  geom_point(color = \"blue\", alpha = 0.6) +\n",
        "  geom_smooth(method = \"lm\", color = \"red\") +\n",
        "  labs(title = paste(\"Corrélation entre Âge et Dépenses Totales (Corr =\", round(correlation, 2), \")\"),\n",
        "       x = \"Âge\", y = \"Dépenses totales (€)\") +\n",
        "  theme_minimal()\n"
      ],
      "metadata": {
        "colab": {
          "base_uri": "https://localhost:8080/",
          "height": 549
        },
        "id": "5Du_NmJxbpXd",
        "outputId": "3c096c92-a177-45bb-a07c-0a0268fc3ba8"
      },
      "execution_count": 134,
      "outputs": [
        {
          "output_type": "stream",
          "name": "stdout",
          "text": [
            "`summarise()` has grouped output by 'client_id'. You can override using the\n",
            "`.groups` argument.\n",
            "`geom_smooth()` using formula = 'y ~ x'\n"
          ]
        },
        {
          "output_type": "display_data",
          "data": {
            "image/png": "[encoded data removed]"
          },
          "metadata": {}
        }
      ]
    },
    {
      "cell_type": "markdown",
      "source": [
        "Observations :\n",
        "\n",
        "Une légère corrélation positive entre l’âge et le montant total des achats pourrait indiquer que les clients plus âgés achètent davantage sur la plateforme.\n",
        "Toutefois, la dispersion dans le graphique montre des variations importantes.\n",
        "Recommandations :\n",
        "\n",
        "Personnalisez les stratégies marketing pour chaque tranche d’âge, en tenant compte des écarts observés.\n",
        "Analysez davantage les segments à forte dépense (>90e percentile) pour identifier les caractéristiques spécifiques de ces clients."
      ],
      "metadata": {
        "id": "cDpRJ8vnc189"
      }
    },
    {
      "cell_type": "markdown",
      "source": [
        "Analyse 3 : Répartition des dépenses par sexe"
      ],
      "metadata": {
        "id": "5GM-ah79b6Af"
      }
    },
    {
      "cell_type": "code",
      "source": [
        "%%R\n",
        "# Dépenses totales par sexe\n",
        "sex_spending <- merged_data %>%\n",
        "  group_by(sex) %>%\n",
        "  summarise(total_revenue = sum(price, na.rm = TRUE))\n",
        "\n",
        "# Visualisation des dépenses par sexe\n",
        "ggplot(sex_spending, aes(x = sex, y = total_revenue, fill = sex)) +\n",
        "  geom_bar(stat = \"identity\") +\n",
        "  labs(title = \"Répartition des Dépenses par Sexe\",\n",
        "       x = \"Sexe\", y = \"Dépenses totales (€)\") +\n",
        "  theme_minimal()\n"
      ],
      "metadata": {
        "colab": {
          "base_uri": "https://localhost:8080/",
          "height": 497
        },
        "id": "2q9IRfLzbHgG",
        "outputId": "c2823388-db43-400d-efae-ff2fc0c86e27"
      },
      "execution_count": 135,
      "outputs": [
        {
          "output_type": "display_data",
          "data": {
            "image/png": "[encoded data removed]"
          },
          "metadata": {}
        }
      ]
    },
    {
      "cell_type": "markdown",
      "source": [
        "Observations :\n",
        "\n",
        "Les femmes semblent générer un chiffre d’affaires légèrement supérieur à celui des hommes.\n",
        "Cela pourrait indiquer une audience féminine plus active ou un comportement d’achat différent.\n",
        "Recommandations :\n",
        "\n",
        "Développez des campagnes marketing ciblées pour chaque sexe, avec des produits spécifiques.\n",
        "Analysez les catégories populaires par sexe pour renforcer les ventes dans les segments dominants."
      ],
      "metadata": {
        "id": "pDZvQdfPc61l"
      }
    },
    {
      "cell_type": "markdown",
      "source": [
        "Analyse 4 : Catégories les plus populaires par tranche d'âge"
      ],
      "metadata": {
        "id": "Eg3cexZ-cQWJ"
      }
    },
    {
      "cell_type": "code",
      "source": [
        "%%R\n",
        "# Calcul des ventes par catégorie et tranche d'âge\n",
        "age_category <- merged_data %>%\n",
        "  group_by(age_group = cut(age, breaks = c(0, 20, 30, 40, 50, 60, 70, 100), right = FALSE), categ) %>%\n",
        "  summarise(total_revenue = sum(price, na.rm = TRUE))\n",
        "\n",
        "# Visualisation\n",
        "ggplot(age_category, aes(x = factor(categ), y = total_revenue, fill = age_group)) +\n",
        "  geom_bar(stat = \"identity\", position = \"dodge\") +\n",
        "  labs(title = \"Catégories Préférées par Tranche d'Âge\",\n",
        "       x = \"Catégorie\", y = \"Chiffre d'affaires (€)\") +\n",
        "  theme_minimal()\n"
      ],
      "metadata": {
        "colab": {
          "base_uri": "https://localhost:8080/",
          "height": 532
        },
        "id": "2jhzfZpybHnZ",
        "outputId": "c5fe4427-60c0-4558-d44a-57a917591eda"
      },
      "execution_count": 136,
      "outputs": [
        {
          "output_type": "stream",
          "name": "stdout",
          "text": [
            "`summarise()` has grouped output by 'age_group'. You can override using the\n",
            "`.groups` argument.\n"
          ]
        },
        {
          "output_type": "display_data",
          "data": {
            "image/png": "[encoded data removed]"
          },
          "metadata": {}
        }
      ]
    },
    {
      "cell_type": "markdown",
      "source": [
        "Observations :\n",
        "\n",
        "Certaines catégories de produits sont universellement populaires (présentes dans toutes les tranches d’âge).\n",
        "D’autres catégories montrent une préférence marquée pour des tranches spécifiques (par exemple, les livres jeunesse pour les moins de 30 ans).\n",
        "Recommandations :\n",
        "\n",
        "Adaptez les stocks et les promotions selon les tranches d’âge dominantes pour chaque catégorie.\n",
        "Proposez des suggestions dynamiques sur le site web pour guider les utilisateurs vers des catégories adaptées à leur âge."
      ],
      "metadata": {
        "id": "BhO_q8xmcdD3"
      }
    },
    {
      "cell_type": "code",
      "source": [],
      "metadata": {
        "id": "ed-LuanNcJk7"
      },
      "execution_count": 136,
      "outputs": []
    }
  ]
}